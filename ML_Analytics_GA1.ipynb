{
  "cells": [
    {
      "cell_type": "code",
      "execution_count": 2,
      "metadata": {
        "id": "FbDBUqJnBCNa"
      },
      "outputs": [],
      "source": [
        "import pandas as pd\n",
        "import numpy as np"
      ]
    },
    {
      "cell_type": "code",
      "execution_count": 4,
      "metadata": {
        "colab": {
          "base_uri": "https://localhost:8080/",
          "height": 377
        },
        "id": "sp78v1tYBmQO",
        "outputId": "d5f793d0-1baf-49ee-a41b-c119e5209e4c"
      },
      "outputs": [
        {
          "name": "stderr",
          "output_type": "stream",
          "text": [
            "c:\\Users\\activ\\anaconda3\\lib\\site-packages\\IPython\\core\\interactiveshell.py:3165: DtypeWarning: Columns (4,505,506,507,508,509,510,511) have mixed types.Specify dtype option on import or set low_memory=False.\n",
            "  has_raised = await self.run_ast_nodes(code_ast.body, cell_name,\n"
          ]
        },
        {
          "data": {
            "text/html": [
              "<div>\n",
              "<style scoped>\n",
              "    .dataframe tbody tr th:only-of-type {\n",
              "        vertical-align: middle;\n",
              "    }\n",
              "\n",
              "    .dataframe tbody tr th {\n",
              "        vertical-align: top;\n",
              "    }\n",
              "\n",
              "    .dataframe thead th {\n",
              "        text-align: right;\n",
              "    }\n",
              "</style>\n",
              "<table border=\"1\" class=\"dataframe\">\n",
              "  <thead>\n",
              "    <tr style=\"text-align: right;\">\n",
              "      <th></th>\n",
              "      <th>RecordNo</th>\n",
              "      <th>endtime</th>\n",
              "      <th>qweek</th>\n",
              "      <th>i1_health</th>\n",
              "      <th>i2_health</th>\n",
              "      <th>i7a_health</th>\n",
              "      <th>i3_health</th>\n",
              "      <th>i4_health</th>\n",
              "      <th>i5_health_1</th>\n",
              "      <th>i5_health_2</th>\n",
              "      <th>...</th>\n",
              "      <th>vac_man_96</th>\n",
              "      <th>vac_man_99</th>\n",
              "      <th>q_other</th>\n",
              "      <th>had_covid</th>\n",
              "      <th>vac_boost_beyond</th>\n",
              "      <th>future_1</th>\n",
              "      <th>future_2</th>\n",
              "      <th>had_covid_2</th>\n",
              "      <th>long_covid</th>\n",
              "      <th>future_3</th>\n",
              "    </tr>\n",
              "  </thead>\n",
              "  <tbody>\n",
              "    <tr>\n",
              "      <th>0</th>\n",
              "      <td>41589</td>\n",
              "      <td>06/01/2022 18:02</td>\n",
              "      <td>week 44</td>\n",
              "      <td></td>\n",
              "      <td>0</td>\n",
              "      <td></td>\n",
              "      <td></td>\n",
              "      <td></td>\n",
              "      <td></td>\n",
              "      <td></td>\n",
              "      <td>...</td>\n",
              "      <td>No</td>\n",
              "      <td>No</td>\n",
              "      <td>__NA__</td>\n",
              "      <td>NaN</td>\n",
              "      <td>NaN</td>\n",
              "      <td>NaN</td>\n",
              "      <td>NaN</td>\n",
              "      <td>NaN</td>\n",
              "      <td>NaN</td>\n",
              "      <td>NaN</td>\n",
              "    </tr>\n",
              "    <tr>\n",
              "      <th>1</th>\n",
              "      <td>41731</td>\n",
              "      <td>03/01/2022 23:48</td>\n",
              "      <td>week 44</td>\n",
              "      <td></td>\n",
              "      <td>1</td>\n",
              "      <td></td>\n",
              "      <td></td>\n",
              "      <td></td>\n",
              "      <td></td>\n",
              "      <td></td>\n",
              "      <td>...</td>\n",
              "      <td>No</td>\n",
              "      <td>No</td>\n",
              "      <td>__NA__</td>\n",
              "      <td>NaN</td>\n",
              "      <td>NaN</td>\n",
              "      <td>NaN</td>\n",
              "      <td>NaN</td>\n",
              "      <td>NaN</td>\n",
              "      <td>NaN</td>\n",
              "      <td>NaN</td>\n",
              "    </tr>\n",
              "    <tr>\n",
              "      <th>2</th>\n",
              "      <td>41756</td>\n",
              "      <td>10/01/2022 04:53</td>\n",
              "      <td>week 44</td>\n",
              "      <td></td>\n",
              "      <td>0</td>\n",
              "      <td></td>\n",
              "      <td></td>\n",
              "      <td></td>\n",
              "      <td></td>\n",
              "      <td></td>\n",
              "      <td>...</td>\n",
              "      <td>Yes</td>\n",
              "      <td>No</td>\n",
              "      <td>Oui bar , restaurent</td>\n",
              "      <td>NaN</td>\n",
              "      <td>NaN</td>\n",
              "      <td>NaN</td>\n",
              "      <td>NaN</td>\n",
              "      <td>NaN</td>\n",
              "      <td>NaN</td>\n",
              "      <td>NaN</td>\n",
              "    </tr>\n",
              "    <tr>\n",
              "      <th>3</th>\n",
              "      <td>41846</td>\n",
              "      <td>01/01/2022 13:15</td>\n",
              "      <td>week 44</td>\n",
              "      <td></td>\n",
              "      <td>5</td>\n",
              "      <td></td>\n",
              "      <td></td>\n",
              "      <td></td>\n",
              "      <td></td>\n",
              "      <td></td>\n",
              "      <td>...</td>\n",
              "      <td>No</td>\n",
              "      <td>No</td>\n",
              "      <td>__NA__</td>\n",
              "      <td>NaN</td>\n",
              "      <td>NaN</td>\n",
              "      <td>NaN</td>\n",
              "      <td>NaN</td>\n",
              "      <td>NaN</td>\n",
              "      <td>NaN</td>\n",
              "      <td>NaN</td>\n",
              "    </tr>\n",
              "    <tr>\n",
              "      <th>4</th>\n",
              "      <td>41847</td>\n",
              "      <td>01/01/2022 19:12</td>\n",
              "      <td>week 44</td>\n",
              "      <td></td>\n",
              "      <td>150</td>\n",
              "      <td></td>\n",
              "      <td></td>\n",
              "      <td></td>\n",
              "      <td></td>\n",
              "      <td></td>\n",
              "      <td>...</td>\n",
              "      <td>No</td>\n",
              "      <td>No</td>\n",
              "      <td>__NA__</td>\n",
              "      <td>NaN</td>\n",
              "      <td>NaN</td>\n",
              "      <td>NaN</td>\n",
              "      <td>NaN</td>\n",
              "      <td>NaN</td>\n",
              "      <td>NaN</td>\n",
              "      <td>NaN</td>\n",
              "    </tr>\n",
              "  </tbody>\n",
              "</table>\n",
              "<p>5 rows × 512 columns</p>\n",
              "</div>"
            ],
            "text/plain": [
              "   RecordNo           endtime    qweek i1_health i2_health i7a_health  \\\n",
              "0     41589  06/01/2022 18:02  week 44                   0              \n",
              "1     41731  03/01/2022 23:48  week 44                   1              \n",
              "2     41756  10/01/2022 04:53  week 44                   0              \n",
              "3     41846  01/01/2022 13:15  week 44                   5              \n",
              "4     41847  01/01/2022 19:12  week 44                 150              \n",
              "\n",
              "  i3_health i4_health i5_health_1 i5_health_2  ... vac_man_96 vac_man_99  \\\n",
              "0                                              ...         No         No   \n",
              "1                                              ...         No         No   \n",
              "2                                              ...        Yes         No   \n",
              "3                                              ...         No         No   \n",
              "4                                              ...         No         No   \n",
              "\n",
              "                q_other had_covid vac_boost_beyond future_1 future_2  \\\n",
              "0                __NA__       NaN              NaN      NaN      NaN   \n",
              "1                __NA__       NaN              NaN      NaN      NaN   \n",
              "2  Oui bar , restaurent       NaN              NaN      NaN      NaN   \n",
              "3                __NA__       NaN              NaN      NaN      NaN   \n",
              "4                __NA__       NaN              NaN      NaN      NaN   \n",
              "\n",
              "  had_covid_2 long_covid future_3  \n",
              "0         NaN        NaN      NaN  \n",
              "1         NaN        NaN      NaN  \n",
              "2         NaN        NaN      NaN  \n",
              "3         NaN        NaN      NaN  \n",
              "4         NaN        NaN      NaN  \n",
              "\n",
              "[5 rows x 512 columns]"
            ]
          },
          "execution_count": 4,
          "metadata": {},
          "output_type": "execute_result"
        }
      ],
      "source": [
        "data = pd.read_csv(\"COVID-19BehaviorData_CAN2022.csv\")\n",
        "data.head()"
      ]
    },
    {
      "cell_type": "code",
      "execution_count": null,
      "metadata": {
        "colab": {
          "base_uri": "https://localhost:8080/"
        },
        "id": "wZSXUUHxBmTO",
        "outputId": "08247470-c632-423a-c222-4351cbbaf7b0"
      },
      "outputs": [],
      "source": [
        "data = data.replace(r'^\\s*$', np.nan, regex=True)\n",
        "\n",
        "# Finding columns where all values are NaN\n",
        "empty_columns = data.columns[data.isna().all()]\n",
        "\n",
        "print(\"Columns with all NaN values:\", empty_columns)\n",
        "data_c = data.dropna(axis=1, how='all')\n",
        "data_c.shape"
      ]
    },
    {
      "cell_type": "code",
      "execution_count": 16,
      "metadata": {
        "colab": {
          "base_uri": "https://localhost:8080/"
        },
        "id": "tTrgLPR9BmYK",
        "outputId": "1d220683-fcee-422b-f151-5a37a4f8b88a"
      },
      "outputs": [
        {
          "data": {
            "text/plain": [
              "(6430, 159)"
            ]
          },
          "execution_count": 16,
          "metadata": {},
          "output_type": "execute_result"
        }
      ],
      "source": [
        "data_cleaned = data.dropna(axis=1, how='all')\n",
        "data_cleaned.shape"
      ]
    },
    {
      "cell_type": "code",
      "execution_count": null,
      "metadata": {
        "colab": {
          "base_uri": "https://localhost:8080/"
        },
        "id": "mpDdbXaGKIUv",
        "outputId": "34a09fa6-d6be-43e9-97c5-14b8187e13fd"
      },
      "outputs": [
        {
          "name": "stdout",
          "output_type": "stream",
          "text": [
            "71\n"
          ]
        },
        {
          "data": {
            "text/plain": [
              "Index(['i12_health_9', 'i12_health_10', 'i14_health_1', 'i14_health_2',\n",
              "       'i14_health_3', 'i14_health_4', 'i14_health_5', 'i14_health_6',\n",
              "       'i14_health_7', 'i14_health_8', 'i14_health_9', 'i14_health_10',\n",
              "       'i14_health_96', 'i14_health_98', 'i14_health_99', 'i12_health_24',\n",
              "       'i14_health_11', 'w1', 'w2', 'w3', 'Soc2_1', 'Soc2_2', 'Soc2_3',\n",
              "       'Soc2_4', 'Soc2_5', 'Soc2_6', 'vac_1', 'travel1_1', 'travel1_2',\n",
              "       'travel1_3', 'travel1_4', 'travel1_99', 'vac12_1', 'vac12_2', 'vac12_3',\n",
              "       'vac12_4', 'vac12_11', 'vac12_5', 'vac12_6', 'vac12_7', 'vac12_8',\n",
              "       'vac12_9', 'vac12_10', 'vac12_96', 'vac12_12', 'vac12_13',\n",
              "       'child_age_1', 'child_age_2', 'child_age_3', 'child_age_4',\n",
              "       'child_age_5', 'Vent_1', 'WAH_1', 'WAH_2', 'WAH_3', 'vac_boost_2',\n",
              "       'vac12_booster_1', 'vac12_booster_2', 'vac12_booster_3',\n",
              "       'vac12_booster_4', 'vac12_booster_5', 'vac12_booster_6',\n",
              "       'vac12_booster_7', 'vac12_booster_8', 'vac12_booster_9',\n",
              "       'vac12_booster_10', 'vac12_booster_96', 'had_covid', 'vac_boost_beyond',\n",
              "       'long_covid', 'future_3'],\n",
              "      dtype='object')"
            ]
          },
          "execution_count": 13,
          "metadata": {},
          "output_type": "execute_result"
        }
      ],
      "source": [
        "# Identify the columns with more than 50% missing data\n",
        "columns_to_drop = data_cleaned.columns[data_cleaned.isnull().mean() > 0.5]\n",
        "\n",
        "print(len(columns_to_drop))\n",
        "\n",
        "# Display the columns that have more than 50% missing data\n",
        "columns_to_drop\n"
      ]
    }
  ],
  "metadata": {
    "colab": {
      "provenance": []
    },
    "kernelspec": {
      "display_name": "base",
      "language": "python",
      "name": "python3"
    },
    "language_info": {
      "codemirror_mode": {
        "name": "ipython",
        "version": 3
      },
      "file_extension": ".py",
      "mimetype": "text/x-python",
      "name": "python",
      "nbconvert_exporter": "python",
      "pygments_lexer": "ipython3",
      "version": "3.8.8"
    }
  },
  "nbformat": 4,
  "nbformat_minor": 0
}
