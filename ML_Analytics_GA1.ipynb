{
 "cells": [
  {
   "cell_type": "code",
   "execution_count": 95,
   "id": "057d9a97",
   "metadata": {
    "ExecuteTime": {
     "end_time": "2024-10-22T20:33:59.023371Z",
     "start_time": "2024-10-22T20:33:59.012611Z"
    }
   },
   "outputs": [],
   "source": [
    "import pandas as pd\n",
    "import numpy as np\n",
    "import matplotlib.pyplot as plt\n",
    "import seaborn as sns"
   ]
  },
  {
   "cell_type": "code",
   "execution_count": 96,
   "id": "33aeade4",
   "metadata": {
    "ExecuteTime": {
     "end_time": "2024-10-22T20:33:59.875297Z",
     "start_time": "2024-10-22T20:33:59.197679Z"
    }
   },
   "outputs": [
    {
     "name": "stderr",
     "output_type": "stream",
     "text": [
      "/var/folders/gx/s5_4k7114v90fkvwrtg9tvmm0000gn/T/ipykernel_16784/3479889270.py:1: DtypeWarning: Columns (4,505,506,507,508,509,510,511) have mixed types. Specify dtype option on import or set low_memory=False.\n",
      "  data = pd.read_csv(\"COVID-19BehaviorData_CAN2022.csv\")\n"
     ]
    },
    {
     "data": {
      "text/html": [
       "<div>\n",
       "<style scoped>\n",
       "    .dataframe tbody tr th:only-of-type {\n",
       "        vertical-align: middle;\n",
       "    }\n",
       "\n",
       "    .dataframe tbody tr th {\n",
       "        vertical-align: top;\n",
       "    }\n",
       "\n",
       "    .dataframe thead th {\n",
       "        text-align: right;\n",
       "    }\n",
       "</style>\n",
       "<table border=\"1\" class=\"dataframe\">\n",
       "  <thead>\n",
       "    <tr style=\"text-align: right;\">\n",
       "      <th></th>\n",
       "      <th>RecordNo</th>\n",
       "      <th>endtime</th>\n",
       "      <th>qweek</th>\n",
       "      <th>i1_health</th>\n",
       "      <th>i2_health</th>\n",
       "      <th>i7a_health</th>\n",
       "      <th>i3_health</th>\n",
       "      <th>i4_health</th>\n",
       "      <th>i5_health_1</th>\n",
       "      <th>i5_health_2</th>\n",
       "      <th>...</th>\n",
       "      <th>vac_man_96</th>\n",
       "      <th>vac_man_99</th>\n",
       "      <th>q_other</th>\n",
       "      <th>had_covid</th>\n",
       "      <th>vac_boost_beyond</th>\n",
       "      <th>future_1</th>\n",
       "      <th>future_2</th>\n",
       "      <th>had_covid_2</th>\n",
       "      <th>long_covid</th>\n",
       "      <th>future_3</th>\n",
       "    </tr>\n",
       "  </thead>\n",
       "  <tbody>\n",
       "    <tr>\n",
       "      <th>0</th>\n",
       "      <td>41589</td>\n",
       "      <td>06/01/2022 18:02</td>\n",
       "      <td>week 44</td>\n",
       "      <td></td>\n",
       "      <td>0</td>\n",
       "      <td></td>\n",
       "      <td></td>\n",
       "      <td></td>\n",
       "      <td></td>\n",
       "      <td></td>\n",
       "      <td>...</td>\n",
       "      <td>No</td>\n",
       "      <td>No</td>\n",
       "      <td>__NA__</td>\n",
       "      <td>NaN</td>\n",
       "      <td>NaN</td>\n",
       "      <td>NaN</td>\n",
       "      <td>NaN</td>\n",
       "      <td>NaN</td>\n",
       "      <td>NaN</td>\n",
       "      <td>NaN</td>\n",
       "    </tr>\n",
       "    <tr>\n",
       "      <th>1</th>\n",
       "      <td>41731</td>\n",
       "      <td>03/01/2022 23:48</td>\n",
       "      <td>week 44</td>\n",
       "      <td></td>\n",
       "      <td>1</td>\n",
       "      <td></td>\n",
       "      <td></td>\n",
       "      <td></td>\n",
       "      <td></td>\n",
       "      <td></td>\n",
       "      <td>...</td>\n",
       "      <td>No</td>\n",
       "      <td>No</td>\n",
       "      <td>__NA__</td>\n",
       "      <td>NaN</td>\n",
       "      <td>NaN</td>\n",
       "      <td>NaN</td>\n",
       "      <td>NaN</td>\n",
       "      <td>NaN</td>\n",
       "      <td>NaN</td>\n",
       "      <td>NaN</td>\n",
       "    </tr>\n",
       "    <tr>\n",
       "      <th>2</th>\n",
       "      <td>41756</td>\n",
       "      <td>10/01/2022 04:53</td>\n",
       "      <td>week 44</td>\n",
       "      <td></td>\n",
       "      <td>0</td>\n",
       "      <td></td>\n",
       "      <td></td>\n",
       "      <td></td>\n",
       "      <td></td>\n",
       "      <td></td>\n",
       "      <td>...</td>\n",
       "      <td>Yes</td>\n",
       "      <td>No</td>\n",
       "      <td>Oui bar , restaurent</td>\n",
       "      <td>NaN</td>\n",
       "      <td>NaN</td>\n",
       "      <td>NaN</td>\n",
       "      <td>NaN</td>\n",
       "      <td>NaN</td>\n",
       "      <td>NaN</td>\n",
       "      <td>NaN</td>\n",
       "    </tr>\n",
       "    <tr>\n",
       "      <th>3</th>\n",
       "      <td>41846</td>\n",
       "      <td>01/01/2022 13:15</td>\n",
       "      <td>week 44</td>\n",
       "      <td></td>\n",
       "      <td>5</td>\n",
       "      <td></td>\n",
       "      <td></td>\n",
       "      <td></td>\n",
       "      <td></td>\n",
       "      <td></td>\n",
       "      <td>...</td>\n",
       "      <td>No</td>\n",
       "      <td>No</td>\n",
       "      <td>__NA__</td>\n",
       "      <td>NaN</td>\n",
       "      <td>NaN</td>\n",
       "      <td>NaN</td>\n",
       "      <td>NaN</td>\n",
       "      <td>NaN</td>\n",
       "      <td>NaN</td>\n",
       "      <td>NaN</td>\n",
       "    </tr>\n",
       "    <tr>\n",
       "      <th>4</th>\n",
       "      <td>41847</td>\n",
       "      <td>01/01/2022 19:12</td>\n",
       "      <td>week 44</td>\n",
       "      <td></td>\n",
       "      <td>150</td>\n",
       "      <td></td>\n",
       "      <td></td>\n",
       "      <td></td>\n",
       "      <td></td>\n",
       "      <td></td>\n",
       "      <td>...</td>\n",
       "      <td>No</td>\n",
       "      <td>No</td>\n",
       "      <td>__NA__</td>\n",
       "      <td>NaN</td>\n",
       "      <td>NaN</td>\n",
       "      <td>NaN</td>\n",
       "      <td>NaN</td>\n",
       "      <td>NaN</td>\n",
       "      <td>NaN</td>\n",
       "      <td>NaN</td>\n",
       "    </tr>\n",
       "  </tbody>\n",
       "</table>\n",
       "<p>5 rows × 512 columns</p>\n",
       "</div>"
      ],
      "text/plain": [
       "   RecordNo           endtime    qweek i1_health i2_health i7a_health  \\\n",
       "0     41589  06/01/2022 18:02  week 44                   0              \n",
       "1     41731  03/01/2022 23:48  week 44                   1              \n",
       "2     41756  10/01/2022 04:53  week 44                   0              \n",
       "3     41846  01/01/2022 13:15  week 44                   5              \n",
       "4     41847  01/01/2022 19:12  week 44                 150              \n",
       "\n",
       "  i3_health i4_health i5_health_1 i5_health_2  ... vac_man_96 vac_man_99  \\\n",
       "0                                              ...         No         No   \n",
       "1                                              ...         No         No   \n",
       "2                                              ...        Yes         No   \n",
       "3                                              ...         No         No   \n",
       "4                                              ...         No         No   \n",
       "\n",
       "                q_other had_covid vac_boost_beyond future_1 future_2  \\\n",
       "0                __NA__       NaN              NaN      NaN      NaN   \n",
       "1                __NA__       NaN              NaN      NaN      NaN   \n",
       "2  Oui bar , restaurent       NaN              NaN      NaN      NaN   \n",
       "3                __NA__       NaN              NaN      NaN      NaN   \n",
       "4                __NA__       NaN              NaN      NaN      NaN   \n",
       "\n",
       "  had_covid_2 long_covid future_3  \n",
       "0         NaN        NaN      NaN  \n",
       "1         NaN        NaN      NaN  \n",
       "2         NaN        NaN      NaN  \n",
       "3         NaN        NaN      NaN  \n",
       "4         NaN        NaN      NaN  \n",
       "\n",
       "[5 rows x 512 columns]"
      ]
     },
     "execution_count": 96,
     "metadata": {},
     "output_type": "execute_result"
    }
   ],
   "source": [
    "data = pd.read_csv(\"COVID-19BehaviorData_CAN2022.csv\")\n",
    "data.head()"
   ]
  },
  {
   "cell_type": "code",
   "execution_count": 97,
   "id": "d9e640f1",
   "metadata": {
    "ExecuteTime": {
     "end_time": "2024-10-22T20:34:02.086162Z",
     "start_time": "2024-10-22T20:33:59.875297Z"
    }
   },
   "outputs": [
    {
     "name": "stdout",
     "output_type": "stream",
     "text": [
      "Columns with all NaN values: Index(['i1_health', 'i7a_health', 'i3_health', 'i4_health', 'i5_health_1',\n",
      "       'i5_health_2', 'i5_health_3', 'i5_health_4', 'i5_health_5',\n",
      "       'i5_health_99',\n",
      "       ...\n",
      "       'SC_1_99', 'SC_2', 'SC_3_1', 'SC_3_2', 'SC_3_3', 'SC_3_4', 'SC_3_5',\n",
      "       'SC_3_6', 'SC_3_7', 'SC_3_99'],\n",
      "      dtype='object', length=353)\n"
     ]
    },
    {
     "data": {
      "text/plain": [
       "(6430, 159)"
      ]
     },
     "execution_count": 97,
     "metadata": {},
     "output_type": "execute_result"
    }
   ],
   "source": [
    "data = data.replace(r'^\\s*$', np.nan, regex=True)\n",
    "\n",
    "# Finding columns where all values are NaN\n",
    "empty_columns = data.columns[data.isna().all()]\n",
    "\n",
    "print(\"Columns with all NaN values:\", empty_columns)\n",
    "data_c = data.dropna(axis=1, how='all')\n",
    "data_c.shape"
   ]
  },
  {
   "cell_type": "code",
   "execution_count": 98,
   "id": "adf23fd8",
   "metadata": {
    "ExecuteTime": {
     "end_time": "2024-10-22T20:34:02.171558Z",
     "start_time": "2024-10-22T20:34:02.086162Z"
    }
   },
   "outputs": [
    {
     "data": {
      "text/plain": [
       "(6430, 159)"
      ]
     },
     "execution_count": 98,
     "metadata": {},
     "output_type": "execute_result"
    }
   ],
   "source": [
    "data_cleaned = data.dropna(axis=1, how='all')\n",
    "data_cleaned.shape"
   ]
  },
  {
   "cell_type": "code",
   "execution_count": 99,
   "id": "e27eff5e",
   "metadata": {
    "ExecuteTime": {
     "end_time": "2024-10-22T20:34:02.228321Z",
     "start_time": "2024-10-22T20:34:02.171558Z"
    }
   },
   "outputs": [
    {
     "name": "stdout",
     "output_type": "stream",
     "text": [
      "67\n"
     ]
    },
    {
     "data": {
      "text/plain": [
       "Index(['RecordNo', 'endtime', 'qweek', 'i9_health', 'i11_health',\n",
       "       'i12_health_1', 'i12_health_2', 'i12_health_3', 'i12_health_4',\n",
       "       'i12_health_5', 'i12_health_6', 'i12_health_7', 'i12_health_8',\n",
       "       'i12_health_11', 'i12_health_12', 'i12_health_13', 'i12_health_14',\n",
       "       'i12_health_15', 'i12_health_16', 'i14_health_other', 'weight',\n",
       "       'gender', 'age', 'region', 'household_size', 'household_children',\n",
       "       'employment_status', 'cantril_ladder', 'PHQ4_1', 'PHQ4_2', 'PHQ4_3',\n",
       "       'PHQ4_4', 'WCRex2', 'WCRex1', 'i12_health_22', 'i12_health_23',\n",
       "       'i12_health_25', 'r1_1', 'r1_2', 'i12_health_26', 'i12_health_27',\n",
       "       'i12_health_28', 'i12_health_29', 'vac2_1', 'vac2_2', 'vac2_3', 'vac7',\n",
       "       'r1_8', 'r1_9', 'vac2_7', 'vac', 'vac12_other', 'Vent_3', 'vac_boost_1',\n",
       "       'vac12_booster_other', 'vac_man_1', 'vac_man_2', 'vac_man_3',\n",
       "       'vac_man_4', 'vac_man_5', 'vac_man_6', 'vac_man_7', 'vac_man_96',\n",
       "       'vac_man_99', 'q_other', 'future_1', 'future_2'],\n",
       "      dtype='object')"
      ]
     },
     "execution_count": 99,
     "metadata": {},
     "output_type": "execute_result"
    }
   ],
   "source": [
    "columns_to_drop = data_cleaned.columns[data_cleaned.isnull().mean() <= 0.30]\n",
    "\n",
    "print(len(columns_to_drop))\n",
    "\n",
    "# Display the columns that have more than 50% missing data\n",
    "columns_to_drop"
   ]
  },
  {
   "cell_type": "code",
   "execution_count": 100,
   "id": "bb12285c",
   "metadata": {
    "ExecuteTime": {
     "end_time": "2024-10-22T20:34:02.266890Z",
     "start_time": "2024-10-22T20:34:02.228321Z"
    }
   },
   "outputs": [
    {
     "name": "stdout",
     "output_type": "stream",
     "text": [
      "0\n"
     ]
    },
    {
     "data": {
      "text/html": [
       "<div>\n",
       "<style scoped>\n",
       "    .dataframe tbody tr th:only-of-type {\n",
       "        vertical-align: middle;\n",
       "    }\n",
       "\n",
       "    .dataframe tbody tr th {\n",
       "        vertical-align: top;\n",
       "    }\n",
       "\n",
       "    .dataframe thead th {\n",
       "        text-align: right;\n",
       "    }\n",
       "</style>\n",
       "<table border=\"1\" class=\"dataframe\">\n",
       "  <thead>\n",
       "    <tr style=\"text-align: right;\">\n",
       "      <th></th>\n",
       "      <th>RecordNo</th>\n",
       "      <th>endtime</th>\n",
       "      <th>qweek</th>\n",
       "      <th>i2_health</th>\n",
       "      <th>i9_health</th>\n",
       "      <th>i11_health</th>\n",
       "      <th>i12_health_1</th>\n",
       "      <th>i12_health_2</th>\n",
       "      <th>i12_health_3</th>\n",
       "      <th>i12_health_4</th>\n",
       "      <th>...</th>\n",
       "      <th>vac_man_96</th>\n",
       "      <th>vac_man_99</th>\n",
       "      <th>q_other</th>\n",
       "      <th>had_covid</th>\n",
       "      <th>vac_boost_beyond</th>\n",
       "      <th>future_1</th>\n",
       "      <th>future_2</th>\n",
       "      <th>had_covid_2</th>\n",
       "      <th>long_covid</th>\n",
       "      <th>future_3</th>\n",
       "    </tr>\n",
       "  </thead>\n",
       "  <tbody>\n",
       "    <tr>\n",
       "      <th>1631</th>\n",
       "      <td>43573</td>\n",
       "      <td>24/01/2022 15:17</td>\n",
       "      <td>week 46</td>\n",
       "      <td>10</td>\n",
       "      <td>Yes</td>\n",
       "      <td>Very willing</td>\n",
       "      <td>Frequently</td>\n",
       "      <td>Sometimes</td>\n",
       "      <td>Sometimes</td>\n",
       "      <td>Always</td>\n",
       "      <td>...</td>\n",
       "      <td>No</td>\n",
       "      <td>Yes</td>\n",
       "      <td>__NA__</td>\n",
       "      <td>No</td>\n",
       "      <td>NaN</td>\n",
       "      <td>3 – About the same</td>\n",
       "      <td>3 – About the same</td>\n",
       "      <td>NaN</td>\n",
       "      <td>NaN</td>\n",
       "      <td>NaN</td>\n",
       "    </tr>\n",
       "    <tr>\n",
       "      <th>1632</th>\n",
       "      <td>43574</td>\n",
       "      <td>24/01/2022 16:00</td>\n",
       "      <td>week 46</td>\n",
       "      <td>3</td>\n",
       "      <td>Yes</td>\n",
       "      <td>Very willing</td>\n",
       "      <td>Always</td>\n",
       "      <td>Always</td>\n",
       "      <td>Always</td>\n",
       "      <td>Always</td>\n",
       "      <td>...</td>\n",
       "      <td>Yes</td>\n",
       "      <td>No</td>\n",
       "      <td>Itinérants</td>\n",
       "      <td>Yes</td>\n",
       "      <td>1 - Strongly agree</td>\n",
       "      <td>3 – About the same</td>\n",
       "      <td>3 – About the same</td>\n",
       "      <td>NaN</td>\n",
       "      <td>NaN</td>\n",
       "      <td>NaN</td>\n",
       "    </tr>\n",
       "    <tr>\n",
       "      <th>1633</th>\n",
       "      <td>43575</td>\n",
       "      <td>24/01/2022 16:09</td>\n",
       "      <td>week 46</td>\n",
       "      <td>0</td>\n",
       "      <td>No</td>\n",
       "      <td>Somewhat willing</td>\n",
       "      <td>Frequently</td>\n",
       "      <td>Always</td>\n",
       "      <td>Frequently</td>\n",
       "      <td>Sometimes</td>\n",
       "      <td>...</td>\n",
       "      <td>No</td>\n",
       "      <td>No</td>\n",
       "      <td>__NA__</td>\n",
       "      <td>No</td>\n",
       "      <td>NaN</td>\n",
       "      <td>3 – About the same</td>\n",
       "      <td>2</td>\n",
       "      <td>NaN</td>\n",
       "      <td>NaN</td>\n",
       "      <td>NaN</td>\n",
       "    </tr>\n",
       "    <tr>\n",
       "      <th>1634</th>\n",
       "      <td>43576</td>\n",
       "      <td>24/01/2022 16:10</td>\n",
       "      <td>week 46</td>\n",
       "      <td>12</td>\n",
       "      <td>Yes</td>\n",
       "      <td>Somewhat willing</td>\n",
       "      <td>Always</td>\n",
       "      <td>Frequently</td>\n",
       "      <td>Always</td>\n",
       "      <td>Always</td>\n",
       "      <td>...</td>\n",
       "      <td>No</td>\n",
       "      <td>Yes</td>\n",
       "      <td>__NA__</td>\n",
       "      <td>No</td>\n",
       "      <td>3</td>\n",
       "      <td>3 – About the same</td>\n",
       "      <td>3 – About the same</td>\n",
       "      <td>NaN</td>\n",
       "      <td>NaN</td>\n",
       "      <td>NaN</td>\n",
       "    </tr>\n",
       "    <tr>\n",
       "      <th>1635</th>\n",
       "      <td>43577</td>\n",
       "      <td>24/01/2022 16:20</td>\n",
       "      <td>week 46</td>\n",
       "      <td>0</td>\n",
       "      <td>Yes</td>\n",
       "      <td>Very willing</td>\n",
       "      <td>Always</td>\n",
       "      <td>Always</td>\n",
       "      <td>Always</td>\n",
       "      <td>Always</td>\n",
       "      <td>...</td>\n",
       "      <td>No</td>\n",
       "      <td>No</td>\n",
       "      <td>__NA__</td>\n",
       "      <td>No</td>\n",
       "      <td>1 - Strongly agree</td>\n",
       "      <td>3 – About the same</td>\n",
       "      <td>3 – About the same</td>\n",
       "      <td>NaN</td>\n",
       "      <td>NaN</td>\n",
       "      <td>NaN</td>\n",
       "    </tr>\n",
       "    <tr>\n",
       "      <th>...</th>\n",
       "      <td>...</td>\n",
       "      <td>...</td>\n",
       "      <td>...</td>\n",
       "      <td>...</td>\n",
       "      <td>...</td>\n",
       "      <td>...</td>\n",
       "      <td>...</td>\n",
       "      <td>...</td>\n",
       "      <td>...</td>\n",
       "      <td>...</td>\n",
       "      <td>...</td>\n",
       "      <td>...</td>\n",
       "      <td>...</td>\n",
       "      <td>...</td>\n",
       "      <td>...</td>\n",
       "      <td>...</td>\n",
       "      <td>...</td>\n",
       "      <td>...</td>\n",
       "      <td>...</td>\n",
       "      <td>...</td>\n",
       "      <td>...</td>\n",
       "    </tr>\n",
       "    <tr>\n",
       "      <th>2611</th>\n",
       "      <td>44553</td>\n",
       "      <td>05/02/2022 20:49</td>\n",
       "      <td>week 46</td>\n",
       "      <td>1</td>\n",
       "      <td>Yes</td>\n",
       "      <td>Very willing</td>\n",
       "      <td>Always</td>\n",
       "      <td>Always</td>\n",
       "      <td>Always</td>\n",
       "      <td>Always</td>\n",
       "      <td>...</td>\n",
       "      <td>No</td>\n",
       "      <td>No</td>\n",
       "      <td>__NA__</td>\n",
       "      <td>Yes</td>\n",
       "      <td>NaN</td>\n",
       "      <td>4</td>\n",
       "      <td>4</td>\n",
       "      <td>NaN</td>\n",
       "      <td>NaN</td>\n",
       "      <td>NaN</td>\n",
       "    </tr>\n",
       "    <tr>\n",
       "      <th>2612</th>\n",
       "      <td>44554</td>\n",
       "      <td>06/02/2022 00:12</td>\n",
       "      <td>week 46</td>\n",
       "      <td>75</td>\n",
       "      <td>Yes</td>\n",
       "      <td>Somewhat willing</td>\n",
       "      <td>Always</td>\n",
       "      <td>Always</td>\n",
       "      <td>Frequently</td>\n",
       "      <td>Always</td>\n",
       "      <td>...</td>\n",
       "      <td>No</td>\n",
       "      <td>Yes</td>\n",
       "      <td>__NA__</td>\n",
       "      <td>No</td>\n",
       "      <td>2</td>\n",
       "      <td>1 – A lot less impact</td>\n",
       "      <td>1 – A lot less impact</td>\n",
       "      <td>NaN</td>\n",
       "      <td>NaN</td>\n",
       "      <td>NaN</td>\n",
       "    </tr>\n",
       "    <tr>\n",
       "      <th>2613</th>\n",
       "      <td>44555</td>\n",
       "      <td>06/02/2022 01:02</td>\n",
       "      <td>week 46</td>\n",
       "      <td>0</td>\n",
       "      <td>Yes</td>\n",
       "      <td>Very willing</td>\n",
       "      <td>Always</td>\n",
       "      <td>Always</td>\n",
       "      <td>Sometimes</td>\n",
       "      <td>Always</td>\n",
       "      <td>...</td>\n",
       "      <td>No</td>\n",
       "      <td>Yes</td>\n",
       "      <td>__NA__</td>\n",
       "      <td>No</td>\n",
       "      <td>NaN</td>\n",
       "      <td>1 – A lot less impact</td>\n",
       "      <td>1 – A lot less impact</td>\n",
       "      <td>NaN</td>\n",
       "      <td>NaN</td>\n",
       "      <td>NaN</td>\n",
       "    </tr>\n",
       "    <tr>\n",
       "      <th>2614</th>\n",
       "      <td>44556</td>\n",
       "      <td>06/02/2022 09:15</td>\n",
       "      <td>week 46</td>\n",
       "      <td>0</td>\n",
       "      <td>No</td>\n",
       "      <td>Somewhat unwilling</td>\n",
       "      <td>Rarely</td>\n",
       "      <td>Sometimes</td>\n",
       "      <td>Rarely</td>\n",
       "      <td>Not at all</td>\n",
       "      <td>...</td>\n",
       "      <td>No</td>\n",
       "      <td>Yes</td>\n",
       "      <td>__NA__</td>\n",
       "      <td>No</td>\n",
       "      <td>NaN</td>\n",
       "      <td>3 – About the same</td>\n",
       "      <td>2</td>\n",
       "      <td>NaN</td>\n",
       "      <td>NaN</td>\n",
       "      <td>NaN</td>\n",
       "    </tr>\n",
       "    <tr>\n",
       "      <th>2615</th>\n",
       "      <td>44557</td>\n",
       "      <td>06/02/2022 11:13</td>\n",
       "      <td>week 46</td>\n",
       "      <td>2</td>\n",
       "      <td>Yes</td>\n",
       "      <td>Very willing</td>\n",
       "      <td>Frequently</td>\n",
       "      <td>Frequently</td>\n",
       "      <td>Frequently</td>\n",
       "      <td>Always</td>\n",
       "      <td>...</td>\n",
       "      <td>No</td>\n",
       "      <td>No</td>\n",
       "      <td>__NA__</td>\n",
       "      <td>No</td>\n",
       "      <td>1 - Strongly agree</td>\n",
       "      <td>3 – About the same</td>\n",
       "      <td>1 – A lot less impact</td>\n",
       "      <td>NaN</td>\n",
       "      <td>NaN</td>\n",
       "      <td>NaN</td>\n",
       "    </tr>\n",
       "  </tbody>\n",
       "</table>\n",
       "<p>971 rows × 159 columns</p>\n",
       "</div>"
      ],
      "text/plain": [
       "      RecordNo           endtime    qweek i2_health i9_health  \\\n",
       "1631     43573  24/01/2022 15:17  week 46        10       Yes   \n",
       "1632     43574  24/01/2022 16:00  week 46         3       Yes   \n",
       "1633     43575  24/01/2022 16:09  week 46         0        No   \n",
       "1634     43576  24/01/2022 16:10  week 46        12       Yes   \n",
       "1635     43577  24/01/2022 16:20  week 46         0       Yes   \n",
       "...        ...               ...      ...       ...       ...   \n",
       "2611     44553  05/02/2022 20:49  week 46         1       Yes   \n",
       "2612     44554  06/02/2022 00:12  week 46        75       Yes   \n",
       "2613     44555  06/02/2022 01:02  week 46         0       Yes   \n",
       "2614     44556  06/02/2022 09:15  week 46         0        No   \n",
       "2615     44557  06/02/2022 11:13  week 46         2       Yes   \n",
       "\n",
       "              i11_health i12_health_1 i12_health_2 i12_health_3 i12_health_4  \\\n",
       "1631        Very willing   Frequently    Sometimes    Sometimes       Always   \n",
       "1632        Very willing       Always       Always       Always       Always   \n",
       "1633    Somewhat willing   Frequently       Always   Frequently    Sometimes   \n",
       "1634    Somewhat willing       Always   Frequently       Always       Always   \n",
       "1635        Very willing       Always       Always       Always       Always   \n",
       "...                  ...          ...          ...          ...          ...   \n",
       "2611        Very willing       Always       Always       Always       Always   \n",
       "2612    Somewhat willing       Always       Always   Frequently       Always   \n",
       "2613        Very willing       Always       Always    Sometimes       Always   \n",
       "2614  Somewhat unwilling       Rarely    Sometimes       Rarely   Not at all   \n",
       "2615        Very willing   Frequently   Frequently   Frequently       Always   \n",
       "\n",
       "      ... vac_man_96 vac_man_99     q_other had_covid    vac_boost_beyond  \\\n",
       "1631  ...         No        Yes      __NA__        No                 NaN   \n",
       "1632  ...        Yes         No  Itinérants       Yes  1 - Strongly agree   \n",
       "1633  ...         No         No      __NA__        No                 NaN   \n",
       "1634  ...         No        Yes      __NA__        No                   3   \n",
       "1635  ...         No         No      __NA__        No  1 - Strongly agree   \n",
       "...   ...        ...        ...         ...       ...                 ...   \n",
       "2611  ...         No         No      __NA__       Yes                 NaN   \n",
       "2612  ...         No        Yes      __NA__        No                   2   \n",
       "2613  ...         No        Yes      __NA__        No                 NaN   \n",
       "2614  ...         No        Yes      __NA__        No                 NaN   \n",
       "2615  ...         No         No      __NA__        No  1 - Strongly agree   \n",
       "\n",
       "                   future_1               future_2 had_covid_2 long_covid  \\\n",
       "1631     3 – About the same     3 – About the same         NaN        NaN   \n",
       "1632     3 – About the same     3 – About the same         NaN        NaN   \n",
       "1633     3 – About the same                      2         NaN        NaN   \n",
       "1634     3 – About the same     3 – About the same         NaN        NaN   \n",
       "1635     3 – About the same     3 – About the same         NaN        NaN   \n",
       "...                     ...                    ...         ...        ...   \n",
       "2611                      4                      4         NaN        NaN   \n",
       "2612  1 – A lot less impact  1 – A lot less impact         NaN        NaN   \n",
       "2613  1 – A lot less impact  1 – A lot less impact         NaN        NaN   \n",
       "2614     3 – About the same                      2         NaN        NaN   \n",
       "2615     3 – About the same  1 – A lot less impact         NaN        NaN   \n",
       "\n",
       "     future_3  \n",
       "1631      NaN  \n",
       "1632      NaN  \n",
       "1633      NaN  \n",
       "1634      NaN  \n",
       "1635      NaN  \n",
       "...       ...  \n",
       "2611      NaN  \n",
       "2612      NaN  \n",
       "2613      NaN  \n",
       "2614      NaN  \n",
       "2615      NaN  \n",
       "\n",
       "[971 rows x 159 columns]"
      ]
     },
     "execution_count": 100,
     "metadata": {},
     "output_type": "execute_result"
    }
   ],
   "source": [
    "missing_values_per_column = columns_to_drop.isnull().sum()\n",
    "print(missing_values_per_column)\n",
    "df_filtered_final = data_cleaned.dropna(subset=['had_covid'])\n",
    "df_filtered_final"
   ]
  },
  {
   "cell_type": "code",
   "execution_count": 101,
   "id": "570987c0",
   "metadata": {
    "ExecuteTime": {
     "end_time": "2024-10-22T20:34:02.291369Z",
     "start_time": "2024-10-22T20:34:02.266890Z"
    }
   },
   "outputs": [
    {
     "name": "stdout",
     "output_type": "stream",
     "text": [
      "      RecordNo           endtime    qweek i9_health          i11_health  \\\n",
      "1631     43573  24/01/2022 15:17  week 46       Yes        Very willing   \n",
      "1632     43574  24/01/2022 16:00  week 46       Yes        Very willing   \n",
      "1633     43575  24/01/2022 16:09  week 46        No    Somewhat willing   \n",
      "1634     43576  24/01/2022 16:10  week 46       Yes    Somewhat willing   \n",
      "1635     43577  24/01/2022 16:20  week 46       Yes        Very willing   \n",
      "...        ...               ...      ...       ...                 ...   \n",
      "2611     44553  05/02/2022 20:49  week 46       Yes        Very willing   \n",
      "2612     44554  06/02/2022 00:12  week 46       Yes    Somewhat willing   \n",
      "2613     44555  06/02/2022 01:02  week 46       Yes        Very willing   \n",
      "2614     44556  06/02/2022 09:15  week 46        No  Somewhat unwilling   \n",
      "2615     44557  06/02/2022 11:13  week 46       Yes        Very willing   \n",
      "\n",
      "     i12_health_1 i12_health_2 i12_health_3 i12_health_4 i12_health_5  ...  \\\n",
      "1631   Frequently    Sometimes    Sometimes       Always   Frequently  ...   \n",
      "1632       Always       Always       Always       Always       Always  ...   \n",
      "1633   Frequently       Always   Frequently    Sometimes   Frequently  ...   \n",
      "1634       Always   Frequently       Always       Always       Always  ...   \n",
      "1635       Always       Always       Always       Always       Always  ...   \n",
      "...           ...          ...          ...          ...          ...  ...   \n",
      "2611       Always       Always       Always       Always       Always  ...   \n",
      "2612       Always       Always   Frequently       Always    Sometimes  ...   \n",
      "2613       Always       Always    Sometimes       Always       Always  ...   \n",
      "2614       Rarely    Sometimes       Rarely   Not at all    Sometimes  ...   \n",
      "2615   Frequently   Frequently   Frequently       Always       Always  ...   \n",
      "\n",
      "     vac_man_2 vac_man_3 vac_man_4 vac_man_5 vac_man_6 vac_man_7 vac_man_96  \\\n",
      "1631        No        No        No        No        No        No         No   \n",
      "1632       Yes       Yes       Yes       Yes       Yes       Yes        Yes   \n",
      "1633       Yes       Yes       Yes       Yes       Yes        No         No   \n",
      "1634        No        No        No        No        No        No         No   \n",
      "1635       Yes       Yes       Yes       Yes       Yes       Yes         No   \n",
      "...        ...       ...       ...       ...       ...       ...        ...   \n",
      "2611       Yes       Yes       Yes       Yes       Yes       Yes         No   \n",
      "2612        No        No        No        No        No        No         No   \n",
      "2613        No        No        No        No        No        No         No   \n",
      "2614        No        No        No        No        No        No         No   \n",
      "2615       Yes       Yes       Yes       Yes       Yes       Yes         No   \n",
      "\n",
      "     vac_man_99               future_1               future_2  \n",
      "1631        Yes     3 – About the same     3 – About the same  \n",
      "1632         No     3 – About the same     3 – About the same  \n",
      "1633         No     3 – About the same                      2  \n",
      "1634        Yes     3 – About the same     3 – About the same  \n",
      "1635         No     3 – About the same     3 – About the same  \n",
      "...         ...                    ...                    ...  \n",
      "2611         No                      4                      4  \n",
      "2612        Yes  1 – A lot less impact  1 – A lot less impact  \n",
      "2613        Yes  1 – A lot less impact  1 – A lot less impact  \n",
      "2614        Yes     3 – About the same                      2  \n",
      "2615         No     3 – About the same  1 – A lot less impact  \n",
      "\n",
      "[971 rows x 66 columns]\n"
     ]
    }
   ],
   "source": [
    "columns_to_keep = ['RecordNo', 'endtime', 'qweek', 'i9_health', 'i11_health',\n",
    "       'i12_health_1', 'i12_health_2', 'i12_health_3', 'i12_health_4',\n",
    "       'i12_health_5', 'i12_health_6', 'i12_health_7', 'i12_health_8',\n",
    "       'i12_health_11', 'i12_health_12', 'i12_health_13', 'i12_health_14',\n",
    "       'i12_health_15', 'i12_health_16', 'i14_health_other', 'weight',\n",
    "       'gender', 'age', 'region', 'household_size', 'household_children',\n",
    "       'employment_status', 'cantril_ladder', 'PHQ4_1', 'PHQ4_2', 'PHQ4_3',\n",
    "       'PHQ4_4', 'WCRex2', 'WCRex1', 'i12_health_22', 'i12_health_23',\n",
    "       'i12_health_25', 'r1_1', 'r1_2', 'i12_health_26', 'i12_health_27',\n",
    "       'i12_health_28', 'i12_health_29', 'vac2_1', 'vac2_2', 'vac2_3', 'vac7',\n",
    "       'r1_8', 'r1_9', 'vac2_7', 'vac', 'vac12_other', 'Vent_3', 'vac_boost_1',\n",
    "       'vac12_booster_other', 'vac_man_1', 'vac_man_2', 'vac_man_3',\n",
    "       'vac_man_4', 'vac_man_5', 'vac_man_6', 'vac_man_7', 'vac_man_96',\n",
    "       'vac_man_99', 'future_1', 'future_2']\n",
    "\n",
    "df_filtered_final = df_filtered_final[columns_to_keep]\n",
    "\n",
    "print(df_filtered_final)\n"
   ]
  },
  {
   "cell_type": "code",
   "execution_count": 102,
   "id": "e08220d5",
   "metadata": {
    "ExecuteTime": {
     "end_time": "2024-10-22T20:34:02.298335Z",
     "start_time": "2024-10-22T20:34:02.291369Z"
    }
   },
   "outputs": [],
   "source": [
    "def find_columns_with_nulls(df):\n",
    "    return df.columns[df.isnull().any()].tolist()"
   ]
  },
  {
   "cell_type": "code",
   "execution_count": 103,
   "id": "b51ac683",
   "metadata": {
    "ExecuteTime": {
     "end_time": "2024-10-22T20:34:02.313286Z",
     "start_time": "2024-10-22T20:34:02.298335Z"
    }
   },
   "outputs": [
    {
     "name": "stdout",
     "output_type": "stream",
     "text": [
      "['vac_boost_1']\n"
     ]
    }
   ],
   "source": [
    "rows_with_nulls = find_columns_with_nulls(df_filtered_final)\n",
    "print(rows_with_nulls)"
   ]
  },
  {
   "cell_type": "code",
   "execution_count": 104,
   "id": "7200862b",
   "metadata": {
    "ExecuteTime": {
     "end_time": "2024-10-22T20:34:02.321454Z",
     "start_time": "2024-10-22T20:34:02.313286Z"
    }
   },
   "outputs": [],
   "source": [
    "def calculate_yes_no_ratio(df):\n",
    "    ratio_dict = {}\n",
    "    for col in df.columns:\n",
    "        yes_count = (df[col] == 'Yes').sum()  \n",
    "        no_count = (df[col] == 'No').sum()  \n",
    "        total_count = yes_count + no_count\n",
    "        yes_ratio = yes_count / total_count if total_count != 0 else 0\n",
    "        no_ratio = no_count / total_count if total_count != 0 else 0\n",
    "        ratio_dict[col] = {'yes_ratio': yes_ratio, 'no_ratio': no_ratio}\n",
    "    return ratio_dict"
   ]
  },
  {
   "cell_type": "code",
   "execution_count": 105,
   "id": "491ecf56",
   "metadata": {
    "ExecuteTime": {
     "end_time": "2024-10-22T20:34:02.346813Z",
     "start_time": "2024-10-22T20:34:02.321454Z"
    }
   },
   "outputs": [],
   "source": [
    "ratios = calculate_yes_no_ratio(df_filtered_final)"
   ]
  },
  {
   "cell_type": "code",
   "execution_count": 106,
   "id": "ff11758b",
   "metadata": {
    "ExecuteTime": {
     "end_time": "2024-10-22T20:34:02.355475Z",
     "start_time": "2024-10-22T20:34:02.349322Z"
    }
   },
   "outputs": [
    {
     "name": "stdout",
     "output_type": "stream",
     "text": [
      "i9_health - Yes ratio: 82.28%, No ratio: 17.72%\n",
      "vac_boost_1 - Yes ratio: 61.29%, No ratio: 38.71%\n",
      "vac_man_1 - Yes ratio: 68.07%, No ratio: 31.93%\n",
      "vac_man_2 - Yes ratio: 65.29%, No ratio: 34.71%\n",
      "vac_man_3 - Yes ratio: 65.09%, No ratio: 34.91%\n",
      "vac_man_4 - Yes ratio: 63.44%, No ratio: 36.56%\n",
      "vac_man_5 - Yes ratio: 55.92%, No ratio: 44.08%\n",
      "vac_man_6 - Yes ratio: 46.55%, No ratio: 53.45%\n",
      "vac_man_7 - Yes ratio: 44.08%, No ratio: 55.92%\n",
      "vac_man_96 - Yes ratio: 3.71%, No ratio: 96.29%\n",
      "vac_man_99 - Yes ratio: 27.19%, No ratio: 72.81%\n"
     ]
    }
   ],
   "source": [
    "filtered_ratios = {col: ratio for col, ratio in ratios.items() if not (ratio['yes_ratio'] == 0 and ratio['no_ratio'] == 0)}\n",
    "for col, ratio in filtered_ratios.items():\n",
    "    print(f\"{col} - Yes ratio: {ratio['yes_ratio']:.2%}, No ratio: {ratio['no_ratio']:.2%}\")"
   ]
  },
  {
   "cell_type": "code",
   "execution_count": 107,
   "id": "9bf5fc90",
   "metadata": {
    "ExecuteTime": {
     "end_time": "2024-10-22T20:34:02.388980Z",
     "start_time": "2024-10-22T20:34:02.355475Z"
    }
   },
   "outputs": [
    {
     "name": "stdout",
     "output_type": "stream",
     "text": [
      "      RecordNo           endtime    qweek i9_health          i11_health  \\\n",
      "1631     43573  24/01/2022 15:17  week 46       Yes        Very willing   \n",
      "1632     43574  24/01/2022 16:00  week 46       Yes        Very willing   \n",
      "1633     43575  24/01/2022 16:09  week 46        No    Somewhat willing   \n",
      "1634     43576  24/01/2022 16:10  week 46       Yes    Somewhat willing   \n",
      "1635     43577  24/01/2022 16:20  week 46       Yes        Very willing   \n",
      "...        ...               ...      ...       ...                 ...   \n",
      "2611     44553  05/02/2022 20:49  week 46       Yes        Very willing   \n",
      "2612     44554  06/02/2022 00:12  week 46       Yes    Somewhat willing   \n",
      "2613     44555  06/02/2022 01:02  week 46       Yes        Very willing   \n",
      "2614     44556  06/02/2022 09:15  week 46        No  Somewhat unwilling   \n",
      "2615     44557  06/02/2022 11:13  week 46       Yes        Very willing   \n",
      "\n",
      "     i12_health_1 i12_health_2 i12_health_3 i12_health_4 i12_health_5  ...  \\\n",
      "1631   Frequently    Sometimes    Sometimes       Always   Frequently  ...   \n",
      "1632       Always       Always       Always       Always       Always  ...   \n",
      "1633   Frequently       Always   Frequently    Sometimes   Frequently  ...   \n",
      "1634       Always   Frequently       Always       Always       Always  ...   \n",
      "1635       Always       Always       Always       Always       Always  ...   \n",
      "...           ...          ...          ...          ...          ...  ...   \n",
      "2611       Always       Always       Always       Always       Always  ...   \n",
      "2612       Always       Always   Frequently       Always    Sometimes  ...   \n",
      "2613       Always       Always    Sometimes       Always       Always  ...   \n",
      "2614       Rarely    Sometimes       Rarely   Not at all    Sometimes  ...   \n",
      "2615   Frequently   Frequently   Frequently       Always       Always  ...   \n",
      "\n",
      "     vac_man_2 vac_man_3 vac_man_4 vac_man_5 vac_man_6 vac_man_7 vac_man_96  \\\n",
      "1631        No        No        No        No        No        No         No   \n",
      "1632       Yes       Yes       Yes       Yes       Yes       Yes        Yes   \n",
      "1633       Yes       Yes       Yes       Yes       Yes        No         No   \n",
      "1634        No        No        No        No        No        No         No   \n",
      "1635       Yes       Yes       Yes       Yes       Yes       Yes         No   \n",
      "...        ...       ...       ...       ...       ...       ...        ...   \n",
      "2611       Yes       Yes       Yes       Yes       Yes       Yes         No   \n",
      "2612        No        No        No        No        No        No         No   \n",
      "2613        No        No        No        No        No        No         No   \n",
      "2614        No        No        No        No        No        No         No   \n",
      "2615       Yes       Yes       Yes       Yes       Yes       Yes         No   \n",
      "\n",
      "     vac_man_99               future_1               future_2  \n",
      "1631        Yes     3 – About the same     3 – About the same  \n",
      "1632         No     3 – About the same     3 – About the same  \n",
      "1633         No     3 – About the same                      2  \n",
      "1634        Yes     3 – About the same     3 – About the same  \n",
      "1635         No     3 – About the same     3 – About the same  \n",
      "...         ...                    ...                    ...  \n",
      "2611         No                      4                      4  \n",
      "2612        Yes  1 – A lot less impact  1 – A lot less impact  \n",
      "2613        Yes  1 – A lot less impact  1 – A lot less impact  \n",
      "2614        Yes     3 – About the same                      2  \n",
      "2615         No     3 – About the same  1 – A lot less impact  \n",
      "\n",
      "[971 rows x 66 columns]\n"
     ]
    }
   ],
   "source": [
    "for col in filtered_ratios.keys():\n",
    "    missing_indices = df_filtered_final[df_filtered_final[col].isnull()].index\n",
    "    yes_ratio = filtered_ratios[col]['yes_ratio']\n",
    "    no_ratio = filtered_ratios[col]['no_ratio']\n",
    "    random_values = np.random.choice(['Yes', 'No'], size=len(missing_indices), p=[yes_ratio, no_ratio])\n",
    "    df_filtered_final.loc[missing_indices, col] = random_values\n",
    "print(df_filtered_final)"
   ]
  },
  {
   "cell_type": "code",
   "execution_count": 108,
   "id": "79820915",
   "metadata": {
    "ExecuteTime": {
     "end_time": "2024-10-22T20:34:02.402364Z",
     "start_time": "2024-10-22T20:34:02.388980Z"
    }
   },
   "outputs": [
    {
     "data": {
      "text/plain": [
       "0"
      ]
     },
     "execution_count": 108,
     "metadata": {},
     "output_type": "execute_result"
    }
   ],
   "source": [
    "missing_values_per_column = df_filtered_final.isnull().sum()\n",
    "sum(missing_values_per_column !=0 )"
   ]
  },
  {
   "cell_type": "code",
   "execution_count": 109,
   "id": "050b5c1f",
   "metadata": {
    "ExecuteTime": {
     "end_time": "2024-10-22T20:34:02.412801Z",
     "start_time": "2024-10-22T20:34:02.402364Z"
    }
   },
   "outputs": [
    {
     "data": {
      "text/plain": [
       "('vac2_1',\n",
       " 'vac2_2',\n",
       " 'r1_8',\n",
       " 'vac',\n",
       " 'Vent_3',\n",
       " 'vac_boost_1',\n",
       " 'future_1',\n",
       " 'future_2')"
      ]
     },
     "execution_count": 109,
     "metadata": {},
     "output_type": "execute_result"
    }
   ],
   "source": [
    "'i12_health_23','i12_health_25', 'r1_2', 'i12_health_26', 'i12_health_27','i12_health_28', 'i12_health_29', \n",
    "'vac2_1', 'vac2_2','r1_8', 'vac', 'Vent_3', 'vac_boost_1','future_1', 'future_2'"
   ]
  },
  {
   "cell_type": "code",
   "execution_count": 110,
   "id": "8ac4ba8e",
   "metadata": {
    "ExecuteTime": {
     "end_time": "2024-10-22T20:34:02.422223Z",
     "start_time": "2024-10-22T20:34:02.412801Z"
    }
   },
   "outputs": [
    {
     "name": "stdout",
     "output_type": "stream",
     "text": [
      "1631    2\n",
      "1632    1\n",
      "1633    1\n",
      "1634    1\n",
      "1635    1\n",
      "       ..\n",
      "2611    1\n",
      "2612    1\n",
      "2613    1\n",
      "2614    2\n",
      "2615    1\n",
      "Name: i12_health_23, Length: 971, dtype: int64\n"
     ]
    },
    {
     "name": "stderr",
     "output_type": "stream",
     "text": [
      "/var/folders/gx/s5_4k7114v90fkvwrtg9tvmm0000gn/T/ipykernel_16784/68165002.py:9: SettingWithCopyWarning: \n",
      "A value is trying to be set on a copy of a slice from a DataFrame.\n",
      "Try using .loc[row_indexer,col_indexer] = value instead\n",
      "\n",
      "See the caveats in the documentation: https://pandas.pydata.org/pandas-docs/stable/user_guide/indexing.html#returning-a-view-versus-a-copy\n",
      "  df_filtered_final['i12_health_23'] = df_filtered_final['i12_health_23'].replace(mapping_dict)\n"
     ]
    }
   ],
   "source": [
    "mapping_dict = {\n",
    "    \"Always\": 1,\n",
    "    \"Frequently\": 2,\n",
    "    \"Sometimes\": 3,\n",
    "    \"Rarely\": 4,\n",
    "    \"Not at all\": 5\n",
    "}\n",
    "\n",
    "df_filtered_final['i12_health_23'] = df_filtered_final['i12_health_23'].replace(mapping_dict)\n",
    "print(df_filtered_final['i12_health_23'])"
   ]
  },
  {
   "cell_type": "code",
   "execution_count": 111,
   "id": "b926284f",
   "metadata": {
    "ExecuteTime": {
     "end_time": "2024-10-22T20:34:02.431180Z",
     "start_time": "2024-10-22T20:34:02.422223Z"
    }
   },
   "outputs": [
    {
     "name": "stdout",
     "output_type": "stream",
     "text": [
      "1631    2\n",
      "1632    1\n",
      "1633    1\n",
      "1634    1\n",
      "1635    1\n",
      "       ..\n",
      "2611    1\n",
      "2612    1\n",
      "2613    1\n",
      "2614    5\n",
      "2615    1\n",
      "Name: i12_health_25, Length: 971, dtype: int64\n"
     ]
    },
    {
     "name": "stderr",
     "output_type": "stream",
     "text": [
      "/var/folders/gx/s5_4k7114v90fkvwrtg9tvmm0000gn/T/ipykernel_16784/3081892446.py:1: SettingWithCopyWarning: \n",
      "A value is trying to be set on a copy of a slice from a DataFrame.\n",
      "Try using .loc[row_indexer,col_indexer] = value instead\n",
      "\n",
      "See the caveats in the documentation: https://pandas.pydata.org/pandas-docs/stable/user_guide/indexing.html#returning-a-view-versus-a-copy\n",
      "  df_filtered_final['i12_health_25'] = df_filtered_final['i12_health_25'].replace(mapping_dict)\n"
     ]
    }
   ],
   "source": [
    "df_filtered_final['i12_health_25'] = df_filtered_final['i12_health_25'].replace(mapping_dict)\n",
    "print(df_filtered_final['i12_health_25'])"
   ]
  },
  {
   "cell_type": "code",
   "execution_count": 112,
   "id": "0e29e2de",
   "metadata": {
    "ExecuteTime": {
     "end_time": "2024-10-22T20:34:02.440125Z",
     "start_time": "2024-10-22T20:34:02.431180Z"
    }
   },
   "outputs": [
    {
     "name": "stdout",
     "output_type": "stream",
     "text": [
      "1631    4\n",
      "1632    1\n",
      "1633    3\n",
      "1634    2\n",
      "1635    1\n",
      "       ..\n",
      "2611    2\n",
      "2612    4\n",
      "2613    3\n",
      "2614    4\n",
      "2615    2\n",
      "Name: i12_health_26, Length: 971, dtype: int64\n"
     ]
    },
    {
     "name": "stderr",
     "output_type": "stream",
     "text": [
      "/var/folders/gx/s5_4k7114v90fkvwrtg9tvmm0000gn/T/ipykernel_16784/3441569954.py:1: SettingWithCopyWarning: \n",
      "A value is trying to be set on a copy of a slice from a DataFrame.\n",
      "Try using .loc[row_indexer,col_indexer] = value instead\n",
      "\n",
      "See the caveats in the documentation: https://pandas.pydata.org/pandas-docs/stable/user_guide/indexing.html#returning-a-view-versus-a-copy\n",
      "  df_filtered_final['i12_health_26'] = df_filtered_final['i12_health_26'].replace(mapping_dict)\n"
     ]
    }
   ],
   "source": [
    "df_filtered_final['i12_health_26'] = df_filtered_final['i12_health_26'].replace(mapping_dict)\n",
    "print(df_filtered_final['i12_health_26'])"
   ]
  },
  {
   "cell_type": "code",
   "execution_count": 113,
   "id": "1296c083",
   "metadata": {
    "ExecuteTime": {
     "end_time": "2024-10-22T20:34:02.451623Z",
     "start_time": "2024-10-22T20:34:02.440125Z"
    }
   },
   "outputs": [
    {
     "name": "stdout",
     "output_type": "stream",
     "text": [
      "1631    4\n",
      "1632    4\n",
      "1633    1\n",
      "1634    3\n",
      "1635    1\n",
      "       ..\n",
      "2611    1\n",
      "2612    4\n",
      "2613    5\n",
      "2614    4\n",
      "2615    2\n",
      "Name: i12_health_27, Length: 971, dtype: int64\n"
     ]
    },
    {
     "name": "stderr",
     "output_type": "stream",
     "text": [
      "/var/folders/gx/s5_4k7114v90fkvwrtg9tvmm0000gn/T/ipykernel_16784/104873175.py:1: SettingWithCopyWarning: \n",
      "A value is trying to be set on a copy of a slice from a DataFrame.\n",
      "Try using .loc[row_indexer,col_indexer] = value instead\n",
      "\n",
      "See the caveats in the documentation: https://pandas.pydata.org/pandas-docs/stable/user_guide/indexing.html#returning-a-view-versus-a-copy\n",
      "  df_filtered_final['i12_health_27'] = df_filtered_final['i12_health_27'].replace(mapping_dict)\n"
     ]
    }
   ],
   "source": [
    "df_filtered_final['i12_health_27'] = df_filtered_final['i12_health_27'].replace(mapping_dict)\n",
    "print(df_filtered_final['i12_health_27'])"
   ]
  },
  {
   "cell_type": "code",
   "execution_count": 114,
   "id": "08e354d5",
   "metadata": {
    "ExecuteTime": {
     "end_time": "2024-10-22T20:34:02.462401Z",
     "start_time": "2024-10-22T20:34:02.451623Z"
    }
   },
   "outputs": [
    {
     "name": "stdout",
     "output_type": "stream",
     "text": [
      "1631    5\n",
      "1632    1\n",
      "1633    4\n",
      "1634    1\n",
      "1635    1\n",
      "       ..\n",
      "2611    1\n",
      "2612    5\n",
      "2613    1\n",
      "2614    4\n",
      "2615    1\n",
      "Name: i12_health_28, Length: 971, dtype: int64\n"
     ]
    },
    {
     "name": "stderr",
     "output_type": "stream",
     "text": [
      "/var/folders/gx/s5_4k7114v90fkvwrtg9tvmm0000gn/T/ipykernel_16784/396420628.py:1: SettingWithCopyWarning: \n",
      "A value is trying to be set on a copy of a slice from a DataFrame.\n",
      "Try using .loc[row_indexer,col_indexer] = value instead\n",
      "\n",
      "See the caveats in the documentation: https://pandas.pydata.org/pandas-docs/stable/user_guide/indexing.html#returning-a-view-versus-a-copy\n",
      "  df_filtered_final['i12_health_28'] = df_filtered_final['i12_health_28'].replace(mapping_dict)\n"
     ]
    }
   ],
   "source": [
    "df_filtered_final['i12_health_28'] = df_filtered_final['i12_health_28'].replace(mapping_dict)\n",
    "print(df_filtered_final['i12_health_28'])"
   ]
  },
  {
   "cell_type": "code",
   "execution_count": 115,
   "id": "a6b6388d",
   "metadata": {
    "ExecuteTime": {
     "end_time": "2024-10-22T20:34:02.472127Z",
     "start_time": "2024-10-22T20:34:02.462401Z"
    }
   },
   "outputs": [
    {
     "name": "stdout",
     "output_type": "stream",
     "text": [
      "1631    4\n",
      "1632    4\n",
      "1633    2\n",
      "1634    5\n",
      "1635    1\n",
      "       ..\n",
      "2611    1\n",
      "2612    5\n",
      "2613    5\n",
      "2614    1\n",
      "2615    1\n",
      "Name: i12_health_29, Length: 971, dtype: int64\n"
     ]
    },
    {
     "name": "stderr",
     "output_type": "stream",
     "text": [
      "/var/folders/gx/s5_4k7114v90fkvwrtg9tvmm0000gn/T/ipykernel_16784/3021764506.py:1: SettingWithCopyWarning: \n",
      "A value is trying to be set on a copy of a slice from a DataFrame.\n",
      "Try using .loc[row_indexer,col_indexer] = value instead\n",
      "\n",
      "See the caveats in the documentation: https://pandas.pydata.org/pandas-docs/stable/user_guide/indexing.html#returning-a-view-versus-a-copy\n",
      "  df_filtered_final['i12_health_29'] = df_filtered_final['i12_health_29'].replace(mapping_dict)\n"
     ]
    }
   ],
   "source": [
    "df_filtered_final['i12_health_29'] = df_filtered_final['i12_health_29'].replace(mapping_dict)\n",
    "print(df_filtered_final['i12_health_29'])"
   ]
  },
  {
   "cell_type": "code",
   "execution_count": 116,
   "id": "9f5bb582",
   "metadata": {
    "ExecuteTime": {
     "end_time": "2024-10-22T20:34:02.483230Z",
     "start_time": "2024-10-22T20:34:02.472127Z"
    }
   },
   "outputs": [
    {
     "name": "stdout",
     "output_type": "stream",
     "text": [
      "1631    4\n",
      "1632    4\n",
      "1633    6\n",
      "1634    6\n",
      "1635    5\n",
      "       ..\n",
      "2611    4\n",
      "2612    7\n",
      "2613    7\n",
      "2614    4\n",
      "2615    6\n",
      "Name: r1_2, Length: 971, dtype: int64\n"
     ]
    },
    {
     "name": "stderr",
     "output_type": "stream",
     "text": [
      "/var/folders/gx/s5_4k7114v90fkvwrtg9tvmm0000gn/T/ipykernel_16784/1959689557.py:11: SettingWithCopyWarning: \n",
      "A value is trying to be set on a copy of a slice from a DataFrame.\n",
      "Try using .loc[row_indexer,col_indexer] = value instead\n",
      "\n",
      "See the caveats in the documentation: https://pandas.pydata.org/pandas-docs/stable/user_guide/indexing.html#returning-a-view-versus-a-copy\n",
      "  df_filtered_final['r1_2'] = df_filtered_final['r1_2'].replace(mapping_dict_r)\n"
     ]
    }
   ],
   "source": [
    "mapping_dict_r = {\n",
    "    '7 - Agree': 7,\n",
    "    '1 – Disagree': 1,\n",
    "    '6':6,\n",
    "    '4':4,\n",
    "    '3':3,\n",
    "    '2':2,\n",
    "    '5':5\n",
    "}\n",
    "\n",
    "df_filtered_final['r1_2'] = df_filtered_final['r1_2'].replace(mapping_dict_r)\n",
    "print(df_filtered_final['r1_2'])"
   ]
  },
  {
   "cell_type": "code",
   "execution_count": 117,
   "id": "3ab91541",
   "metadata": {
    "ExecuteTime": {
     "end_time": "2024-10-22T20:34:02.494014Z",
     "start_time": "2024-10-22T20:34:02.483230Z"
    }
   },
   "outputs": [
    {
     "name": "stdout",
     "output_type": "stream",
     "text": [
      "1631    5\n",
      "1632    3\n",
      "1633    4\n",
      "1634    2\n",
      "1635    5\n",
      "       ..\n",
      "2611    5\n",
      "2612    5\n",
      "2613    5\n",
      "2614    4\n",
      "2615    4\n",
      "Name: vac2_1, Length: 971, dtype: int64\n"
     ]
    },
    {
     "name": "stderr",
     "output_type": "stream",
     "text": [
      "/var/folders/gx/s5_4k7114v90fkvwrtg9tvmm0000gn/T/ipykernel_16784/3381181622.py:9: SettingWithCopyWarning: \n",
      "A value is trying to be set on a copy of a slice from a DataFrame.\n",
      "Try using .loc[row_indexer,col_indexer] = value instead\n",
      "\n",
      "See the caveats in the documentation: https://pandas.pydata.org/pandas-docs/stable/user_guide/indexing.html#returning-a-view-versus-a-copy\n",
      "  df_filtered_final['vac2_1'] = df_filtered_final['vac2_1'].replace(mapping_dict_vac)\n"
     ]
    }
   ],
   "source": [
    "mapping_dict_vac = {\n",
    "    '5 – Strongly disagree': 5,\n",
    "    '1 - Strongly agree': 1,\n",
    "    '4':4,\n",
    "    '3':3,\n",
    "    '2':2\n",
    "}\n",
    "\n",
    "df_filtered_final['vac2_1'] = df_filtered_final['vac2_1'].replace(mapping_dict_vac)\n",
    "print(df_filtered_final['vac2_1'])"
   ]
  },
  {
   "cell_type": "code",
   "execution_count": 118,
   "id": "23f7b105",
   "metadata": {
    "ExecuteTime": {
     "end_time": "2024-10-22T20:34:02.506126Z",
     "start_time": "2024-10-22T20:34:02.494014Z"
    }
   },
   "outputs": [
    {
     "name": "stdout",
     "output_type": "stream",
     "text": [
      "1631    2\n",
      "1632    1\n",
      "1633    4\n",
      "1634    3\n",
      "1635    5\n",
      "       ..\n",
      "2611    3\n",
      "2612    5\n",
      "2613    5\n",
      "2614    2\n",
      "2615    2\n",
      "Name: vac2_2, Length: 971, dtype: int64\n"
     ]
    },
    {
     "name": "stderr",
     "output_type": "stream",
     "text": [
      "/var/folders/gx/s5_4k7114v90fkvwrtg9tvmm0000gn/T/ipykernel_16784/408921047.py:9: SettingWithCopyWarning: \n",
      "A value is trying to be set on a copy of a slice from a DataFrame.\n",
      "Try using .loc[row_indexer,col_indexer] = value instead\n",
      "\n",
      "See the caveats in the documentation: https://pandas.pydata.org/pandas-docs/stable/user_guide/indexing.html#returning-a-view-versus-a-copy\n",
      "  df_filtered_final['vac2_2'] = df_filtered_final['vac2_2'].replace(mapping_dict_vac)\n"
     ]
    }
   ],
   "source": [
    "mapping_dict_vac = {\n",
    "    '5 – Strongly disagree': 5,\n",
    "    '1 - Strongly agree': 1,\n",
    "    '4':4,\n",
    "    '3':3,\n",
    "    '2':2\n",
    "}\n",
    "\n",
    "df_filtered_final['vac2_2'] = df_filtered_final['vac2_2'].replace(mapping_dict_vac)\n",
    "print(df_filtered_final['vac2_2'])"
   ]
  },
  {
   "cell_type": "code",
   "execution_count": 119,
   "id": "bb7498f3",
   "metadata": {
    "ExecuteTime": {
     "end_time": "2024-10-22T20:34:02.517325Z",
     "start_time": "2024-10-22T20:34:02.508155Z"
    }
   },
   "outputs": [
    {
     "name": "stdout",
     "output_type": "stream",
     "text": [
      "1631    2\n",
      "1632    7\n",
      "1633    5\n",
      "1634    6\n",
      "1635    7\n",
      "       ..\n",
      "2611    7\n",
      "2612    7\n",
      "2613    4\n",
      "2614    2\n",
      "2615    7\n",
      "Name: r1_8, Length: 971, dtype: int64\n"
     ]
    },
    {
     "name": "stderr",
     "output_type": "stream",
     "text": [
      "/var/folders/gx/s5_4k7114v90fkvwrtg9tvmm0000gn/T/ipykernel_16784/813839051.py:1: SettingWithCopyWarning: \n",
      "A value is trying to be set on a copy of a slice from a DataFrame.\n",
      "Try using .loc[row_indexer,col_indexer] = value instead\n",
      "\n",
      "See the caveats in the documentation: https://pandas.pydata.org/pandas-docs/stable/user_guide/indexing.html#returning-a-view-versus-a-copy\n",
      "  df_filtered_final['r1_8'] = df_filtered_final['r1_8'].replace(mapping_dict_r)\n"
     ]
    }
   ],
   "source": [
    "df_filtered_final['r1_8'] = df_filtered_final['r1_8'].replace(mapping_dict_r)\n",
    "print(df_filtered_final['r1_8'])"
   ]
  },
  {
   "cell_type": "code",
   "execution_count": 120,
   "id": "b50feb9e",
   "metadata": {
    "ExecuteTime": {
     "end_time": "2024-10-22T20:34:02.527928Z",
     "start_time": "2024-10-22T20:34:02.517325Z"
    }
   },
   "outputs": [
    {
     "name": "stdout",
     "output_type": "stream",
     "text": [
      "1631    0\n",
      "1632    2\n",
      "1633    2\n",
      "1634    2\n",
      "1635    2\n",
      "       ..\n",
      "2611    2\n",
      "2612    2\n",
      "2613    2\n",
      "2614    1\n",
      "2615    2\n",
      "Name: vac, Length: 971, dtype: int64\n"
     ]
    },
    {
     "name": "stderr",
     "output_type": "stream",
     "text": [
      "/var/folders/gx/s5_4k7114v90fkvwrtg9tvmm0000gn/T/ipykernel_16784/967711251.py:7: SettingWithCopyWarning: \n",
      "A value is trying to be set on a copy of a slice from a DataFrame.\n",
      "Try using .loc[row_indexer,col_indexer] = value instead\n",
      "\n",
      "See the caveats in the documentation: https://pandas.pydata.org/pandas-docs/stable/user_guide/indexing.html#returning-a-view-versus-a-copy\n",
      "  df_filtered_final['vac'] = df_filtered_final['vac'].replace(mapping_dict_vacc)\n"
     ]
    }
   ],
   "source": [
    "mapping_dict_vacc = {\n",
    "    'No, neither':0,\n",
    "    'Yes, two doses':2, \n",
    "    'Yes, one dose':1\n",
    "}\n",
    "\n",
    "df_filtered_final['vac'] = df_filtered_final['vac'].replace(mapping_dict_vacc)\n",
    "print(df_filtered_final['vac'])"
   ]
  },
  {
   "cell_type": "code",
   "execution_count": 121,
   "id": "11426418",
   "metadata": {
    "ExecuteTime": {
     "end_time": "2024-10-22T20:34:02.537090Z",
     "start_time": "2024-10-22T20:34:02.527928Z"
    }
   },
   "outputs": [
    {
     "name": "stdout",
     "output_type": "stream",
     "text": [
      "1631    4\n",
      "1632    2\n",
      "1633    4\n",
      "1634    3\n",
      "1635    5\n",
      "       ..\n",
      "2611    2\n",
      "2612    5\n",
      "2613    3\n",
      "2614    4\n",
      "2615    3\n",
      "Name: Vent_3, Length: 971, dtype: int64\n"
     ]
    },
    {
     "name": "stderr",
     "output_type": "stream",
     "text": [
      "/var/folders/gx/s5_4k7114v90fkvwrtg9tvmm0000gn/T/ipykernel_16784/2040746893.py:1: SettingWithCopyWarning: \n",
      "A value is trying to be set on a copy of a slice from a DataFrame.\n",
      "Try using .loc[row_indexer,col_indexer] = value instead\n",
      "\n",
      "See the caveats in the documentation: https://pandas.pydata.org/pandas-docs/stable/user_guide/indexing.html#returning-a-view-versus-a-copy\n",
      "  df_filtered_final['Vent_3'] = df_filtered_final['Vent_3'].replace(mapping_dict)\n"
     ]
    }
   ],
   "source": [
    "df_filtered_final['Vent_3'] = df_filtered_final['Vent_3'].replace(mapping_dict)\n",
    "print(df_filtered_final['Vent_3'])"
   ]
  },
  {
   "cell_type": "code",
   "execution_count": 122,
   "id": "cf7d8f80",
   "metadata": {
    "ExecuteTime": {
     "end_time": "2024-10-22T20:34:02.546768Z",
     "start_time": "2024-10-22T20:34:02.537090Z"
    }
   },
   "outputs": [
    {
     "name": "stdout",
     "output_type": "stream",
     "text": [
      "1631    1\n",
      "1632    1\n",
      "1633    0\n",
      "1634    1\n",
      "1635    1\n",
      "       ..\n",
      "2611    0\n",
      "2612    1\n",
      "2613    0\n",
      "2614    0\n",
      "2615    1\n",
      "Name: vac_boost_1, Length: 971, dtype: int64\n"
     ]
    },
    {
     "name": "stderr",
     "output_type": "stream",
     "text": [
      "/var/folders/gx/s5_4k7114v90fkvwrtg9tvmm0000gn/T/ipykernel_16784/3473462406.py:5: SettingWithCopyWarning: \n",
      "A value is trying to be set on a copy of a slice from a DataFrame.\n",
      "Try using .loc[row_indexer,col_indexer] = value instead\n",
      "\n",
      "See the caveats in the documentation: https://pandas.pydata.org/pandas-docs/stable/user_guide/indexing.html#returning-a-view-versus-a-copy\n",
      "  df_filtered_final['vac_boost_1'] = df_filtered_final['vac_boost_1'].replace(mapping_dict_vacboost)\n"
     ]
    }
   ],
   "source": [
    "mapping_dict_vacboost = {\n",
    "    'No':0,\n",
    "    'Yes':1\n",
    "}\n",
    "df_filtered_final['vac_boost_1'] = df_filtered_final['vac_boost_1'].replace(mapping_dict_vacboost)\n",
    "print(df_filtered_final['vac_boost_1'])"
   ]
  },
  {
   "cell_type": "code",
   "execution_count": 123,
   "id": "b47edb3b",
   "metadata": {
    "ExecuteTime": {
     "end_time": "2024-10-22T20:34:02.558330Z",
     "start_time": "2024-10-22T20:34:02.546768Z"
    }
   },
   "outputs": [
    {
     "name": "stdout",
     "output_type": "stream",
     "text": [
      "1631    3\n",
      "1632    3\n",
      "1633    3\n",
      "1634    3\n",
      "1635    3\n",
      "       ..\n",
      "2611    4\n",
      "2612    1\n",
      "2613    1\n",
      "2614    3\n",
      "2615    3\n",
      "Name: future_1, Length: 971, dtype: int64\n"
     ]
    },
    {
     "name": "stderr",
     "output_type": "stream",
     "text": [
      "/var/folders/gx/s5_4k7114v90fkvwrtg9tvmm0000gn/T/ipykernel_16784/87148762.py:8: SettingWithCopyWarning: \n",
      "A value is trying to be set on a copy of a slice from a DataFrame.\n",
      "Try using .loc[row_indexer,col_indexer] = value instead\n",
      "\n",
      "See the caveats in the documentation: https://pandas.pydata.org/pandas-docs/stable/user_guide/indexing.html#returning-a-view-versus-a-copy\n",
      "  df_filtered_final['future_1'] = df_filtered_final['future_1'].replace(mapping_dict_future)\n"
     ]
    }
   ],
   "source": [
    "mapping_dict_future = {\n",
    "    '3 – About the same':3,\n",
    "    '1 – A lot less impact':1,\n",
    "    '5 - A lot more of an impact':5,\n",
    "    '2':2,\n",
    "    '4':4\n",
    "}\n",
    "df_filtered_final['future_1'] = df_filtered_final['future_1'].replace(mapping_dict_future)\n",
    "print(df_filtered_final['future_1'])"
   ]
  },
  {
   "cell_type": "code",
   "execution_count": 124,
   "id": "3c3497f1",
   "metadata": {
    "ExecuteTime": {
     "end_time": "2024-10-22T20:34:02.568112Z",
     "start_time": "2024-10-22T20:34:02.558330Z"
    },
    "scrolled": true
   },
   "outputs": [
    {
     "name": "stdout",
     "output_type": "stream",
     "text": [
      "1631    3\n",
      "1632    3\n",
      "1633    2\n",
      "1634    3\n",
      "1635    3\n",
      "       ..\n",
      "2611    4\n",
      "2612    1\n",
      "2613    1\n",
      "2614    2\n",
      "2615    1\n",
      "Name: future_2, Length: 971, dtype: int64\n"
     ]
    },
    {
     "name": "stderr",
     "output_type": "stream",
     "text": [
      "/var/folders/gx/s5_4k7114v90fkvwrtg9tvmm0000gn/T/ipykernel_16784/2809361227.py:1: SettingWithCopyWarning: \n",
      "A value is trying to be set on a copy of a slice from a DataFrame.\n",
      "Try using .loc[row_indexer,col_indexer] = value instead\n",
      "\n",
      "See the caveats in the documentation: https://pandas.pydata.org/pandas-docs/stable/user_guide/indexing.html#returning-a-view-versus-a-copy\n",
      "  df_filtered_final['future_2'] = df_filtered_final['future_2'].replace(mapping_dict_future)\n"
     ]
    }
   ],
   "source": [
    "df_filtered_final['future_2'] = df_filtered_final['future_2'].replace(mapping_dict_future)\n",
    "print(df_filtered_final['future_2'])"
   ]
  },
  {
   "cell_type": "code",
   "execution_count": 125,
   "id": "612ce18f",
   "metadata": {
    "ExecuteTime": {
     "end_time": "2024-10-22T20:34:02.579332Z",
     "start_time": "2024-10-22T20:34:02.568112Z"
    }
   },
   "outputs": [
    {
     "name": "stdout",
     "output_type": "stream",
     "text": [
      "1631                                   Ontario\n",
      "1632                           Quebec / Québec\n",
      "1633                           Quebec / Québec\n",
      "1634    British Columbia / Colombie Britanique\n",
      "1635                           Quebec / Québec\n",
      "                         ...                  \n",
      "2611                                   Ontario\n",
      "2612                                   Ontario\n",
      "2613                                   Ontario\n",
      "2614                                   Ontario\n",
      "2615                                   Ontario\n",
      "Name: region, Length: 971, dtype: object\n"
     ]
    },
    {
     "name": "stderr",
     "output_type": "stream",
     "text": [
      "/var/folders/gx/s5_4k7114v90fkvwrtg9tvmm0000gn/T/ipykernel_16784/396689668.py:11: SettingWithCopyWarning: \n",
      "A value is trying to be set on a copy of a slice from a DataFrame.\n",
      "Try using .loc[row_indexer,col_indexer] = value instead\n",
      "\n",
      "See the caveats in the documentation: https://pandas.pydata.org/pandas-docs/stable/user_guide/indexing.html#returning-a-view-versus-a-copy\n",
      "  df_filtered_final['region'] = df_filtered_final['region'].replace(mapping_dict_region)\n"
     ]
    }
   ],
   "source": [
    "mapping_dict_region = {\n",
    "    '7': 7,\n",
    "    '1': 1,\n",
    "    '6':6,\n",
    "    '4':4,\n",
    "    '3':3,\n",
    "    '2':2,\n",
    "    '5':5\n",
    "}\n",
    "\n",
    "df_filtered_final['region'] = df_filtered_final['region'].replace(mapping_dict_region)\n",
    "print(df_filtered_final['region'])"
   ]
  },
  {
   "cell_type": "code",
   "execution_count": 126,
   "id": "15fa645f",
   "metadata": {
    "ExecuteTime": {
     "end_time": "2024-10-22T20:34:02.588551Z",
     "start_time": "2024-10-22T20:34:02.579332Z"
    }
   },
   "outputs": [
    {
     "data": {
      "text/plain": [
       "array([3, 2, 1, 5, 4])"
      ]
     },
     "execution_count": 126,
     "metadata": {},
     "output_type": "execute_result"
    }
   ],
   "source": [
    "df_filtered_final['future_2'].unique()"
   ]
  },
  {
   "cell_type": "code",
   "execution_count": 127,
   "id": "43479ae9",
   "metadata": {
    "ExecuteTime": {
     "end_time": "2024-10-22T20:34:02.600616Z",
     "start_time": "2024-10-22T20:34:02.588551Z"
    }
   },
   "outputs": [
    {
     "data": {
      "text/plain": [
       "Yes         743\n",
       "No          160\n",
       "Not sure     68\n",
       "Name: i9_health, dtype: int64"
      ]
     },
     "execution_count": 127,
     "metadata": {},
     "output_type": "execute_result"
    }
   ],
   "source": [
    "value_counts = df_filtered_final['i9_health'].value_counts()\n",
    "value_counts"
   ]
  },
  {
   "cell_type": "code",
   "execution_count": 128,
   "id": "ebf475aa",
   "metadata": {
    "ExecuteTime": {
     "end_time": "2024-10-22T20:34:02.611310Z",
     "start_time": "2024-10-22T20:34:02.602627Z"
    }
   },
   "outputs": [
    {
     "data": {
      "text/plain": [
       "Very willing                     662\n",
       "Somewhat willing                 187\n",
       "Neither willing nor unwilling     57\n",
       "Very unwilling                    26\n",
       "Not sure                          21\n",
       "Somewhat unwilling                18\n",
       "Name: i11_health, dtype: int64"
      ]
     },
     "execution_count": 128,
     "metadata": {},
     "output_type": "execute_result"
    }
   ],
   "source": [
    "value_counts1 = df_filtered_final['i11_health'].value_counts()\n",
    "value_counts1"
   ]
  },
  {
   "cell_type": "code",
   "execution_count": 129,
   "id": "e6706f1c",
   "metadata": {
    "ExecuteTime": {
     "end_time": "2024-10-22T20:34:02.622702Z",
     "start_time": "2024-10-22T20:34:02.611310Z"
    }
   },
   "outputs": [
    {
     "name": "stdout",
     "output_type": "stream",
     "text": [
      "1631    2\n",
      "1632    2\n",
      "1633    6\n",
      "1634    2\n",
      "1635    2\n",
      "       ..\n",
      "2611    3\n",
      "2612    4\n",
      "2613    2\n",
      "2614    3\n",
      "2615    3\n",
      "Name: household_size, Length: 971, dtype: object\n"
     ]
    },
    {
     "name": "stderr",
     "output_type": "stream",
     "text": [
      "/var/folders/gx/s5_4k7114v90fkvwrtg9tvmm0000gn/T/ipykernel_16784/1163348248.py:10: SettingWithCopyWarning: \n",
      "A value is trying to be set on a copy of a slice from a DataFrame.\n",
      "Try using .loc[row_indexer,col_indexer] = value instead\n",
      "\n",
      "See the caveats in the documentation: https://pandas.pydata.org/pandas-docs/stable/user_guide/indexing.html#returning-a-view-versus-a-copy\n",
      "  df_filtered_final['household_size'] = df_filtered_final['household_size'].replace(mapping_dict_household)\n"
     ]
    }
   ],
   "source": [
    "mapping_dict_household = {\n",
    "    '7': 7,\n",
    "    '1': 1,\n",
    "    '6':6,\n",
    "    '4':4,\n",
    "    '3':3,\n",
    "    '2':2,\n",
    "    '5':5\n",
    "}\n",
    "df_filtered_final['household_size'] = df_filtered_final['household_size'].replace(mapping_dict_household)\n",
    "print(df_filtered_final['household_size'])"
   ]
  },
  {
   "cell_type": "code",
   "execution_count": 130,
   "id": "f9d80c05",
   "metadata": {
    "ExecuteTime": {
     "end_time": "2024-10-22T20:34:02.702629Z",
     "start_time": "2024-10-22T20:34:02.622702Z"
    }
   },
   "outputs": [
    {
     "name": "stdout",
     "output_type": "stream",
     "text": [
      "      PHQ4_1  PHQ4_2  PHQ4_3  PHQ4_4  PHQ4\n",
      "1631     2.0     2.0     2.0     2.0   2.0\n",
      "1632     2.0     1.0     2.0     1.0   1.5\n",
      "1633     3.0     2.0     2.0     1.0   2.0\n",
      "1634     1.0     1.0     1.0     1.0   1.0\n",
      "1635     1.0     1.0     1.0     1.0   1.0\n"
     ]
    }
   ],
   "source": [
    "df_filtered_final = df_filtered_final.drop(columns=['household_children', 'cantril_ladder','region'])\n",
    "\n",
    "#------------------------------------------\n",
    "value_mapping = {\n",
    "    'Not at all': 1,\n",
    "    'Several days': 2,\n",
    "    'More than half the days': 3,\n",
    "    'Nearly every day': 4,\n",
    "    'Prefer not to say': 99\n",
    "}\n",
    "\n",
    "columns_to_replace = ['PHQ4_1', 'PHQ4_2', 'PHQ4_3', 'PHQ4_4']\n",
    "for column in columns_to_replace:\n",
    "    df_filtered_final[column] = df_filtered_final[column].replace(value_mapping)\n",
    "\n",
    "for column in columns_to_replace:\n",
    "    # Calculate the mean of the column excluding the value 99\n",
    "    mean_value = df_filtered_final[df_filtered_final[column] != 99][column].mean()\n",
    "    # Replace the value 99 with the calculated mean\n",
    "    df_filtered_final[column] = df_filtered_final[column].replace(99, mean_value)\n",
    "\n",
    "# Sum the values of the four columns 'PHQ4_1', 'PHQ4_2', 'PHQ4_3', 'PHQ4_4' and create a new column named 'PHQ4'\n",
    "df_filtered_final['PHQ4'] = df_filtered_final[['PHQ4_1', 'PHQ4_2', 'PHQ4_3', 'PHQ4_4']].mean(axis=1)\n",
    "\n",
    "print(df_filtered_final[['PHQ4_1', 'PHQ4_2', 'PHQ4_3', 'PHQ4_4', 'PHQ4']].head())\n",
    "#----------------------------------\n",
    "\n",
    "gender_mapping = {\n",
    "    'Male' : 1,\n",
    "    'Female' : 2\n",
    "}\n",
    "df_filtered_final['gender'] = df_filtered_final['gender'].replace(gender_mapping)\n",
    "\n",
    "#--------------------------------------\n",
    "employment_status_mapping = {\n",
    "    'Full time employment': 1,\n",
    "    'Part time employment': 2,\n",
    "    'Full time student': 3,\n",
    "    'Retired': 4,\n",
    "    'Unemployed': 5,\n",
    "    'Not working': 6,\n",
    "    'Other': 7\n",
    "}\n",
    "\n",
    "df_filtered_final['employment_status'] = df_filtered_final['employment_status'].replace(employment_status_mapping)\n",
    "#-----------------------------------------------\n",
    "\n",
    "wcrex2_mapping = {\n",
    "    'A lot of confidence': 1,\n",
    "    'A fair amount of confidence': 2,\n",
    "    'Not very much confidence': 3,\n",
    "    'No confidence at all': 4,\n",
    "    \"Don't know\": 5\n",
    "}\n",
    "\n",
    "df_filtered_final['WCRex2'] = df_filtered_final['WCRex2'].replace(wcrex2_mapping)\n",
    "\n",
    "#----------------------------\n",
    "\n",
    "wcrex1_mapping = {\n",
    "    'Very well': 1,\n",
    "    'Somewhat well': 2,\n",
    "    'Somewhat badly': 3,\n",
    "    'Very badly': 4,\n",
    "    \"Don't know\": 5\n",
    "}\n",
    "\n",
    "df_filtered_final['WCRex1'] = df_filtered_final['WCRex1'].replace(wcrex1_mapping)\n",
    "\n",
    "#----------------------------\n",
    "\n",
    "i12_health_22_mapping = {\n",
    "    'Always': 1,\n",
    "    'Frequently': 2,\n",
    "    'Sometimes': 3,\n",
    "    'Rarely': 4,\n",
    "    'Not at all': 5\n",
    "}\n",
    "\n",
    "df_filtered_final['i12_health_22'] = df_filtered_final['i12_health_22'].replace(i12_health_22_mapping)\n",
    "\n",
    "df_filtered_final = df_filtered_final.drop(columns=['PHQ4_1', 'PHQ4_2', 'PHQ4_3', 'PHQ4_4'])"
   ]
  },
  {
   "cell_type": "code",
   "execution_count": 131,
   "id": "fe8d317e-1567-4c95-a778-e1e95725b0c3",
   "metadata": {
    "ExecuteTime": {
     "end_time": "2024-10-22T20:34:02.712571Z",
     "start_time": "2024-10-22T20:34:02.702629Z"
    }
   },
   "outputs": [
    {
     "data": {
      "text/plain": [
       "('i12_health_15', 'i12_health_16')"
      ]
     },
     "execution_count": 131,
     "metadata": {},
     "output_type": "execute_result"
    }
   ],
   "source": [
    "'i9_health', 'i11_health',\n",
    "'i12_health_1', 'i12_health_2', 'i12_health_3', 'i12_health_4',\n",
    "'i12_health_5', 'i12_health_6', 'i12_health_7', 'i12_health_8',\n",
    "'i12_health_11', 'i12_health_12', 'i12_health_13', 'i12_health_14',\n",
    "'i12_health_15', 'i12_health_16'"
   ]
  },
  {
   "cell_type": "code",
   "execution_count": 132,
   "id": "b37a131e",
   "metadata": {
    "ExecuteTime": {
     "end_time": "2024-10-22T20:34:02.738736Z",
     "start_time": "2024-10-22T20:34:02.712571Z"
    }
   },
   "outputs": [
    {
     "name": "stdout",
     "output_type": "stream",
     "text": [
      "1631    1.0\n",
      "1632    1.0\n",
      "1633    0.0\n",
      "1634    1.0\n",
      "1635    1.0\n",
      "       ... \n",
      "2611    1.0\n",
      "2612    1.0\n",
      "2613    1.0\n",
      "2614    0.0\n",
      "2615    1.0\n",
      "Name: i9_health, Length: 903, dtype: float64\n"
     ]
    }
   ],
   "source": [
    "mapping_dict_i9health = {\n",
    "    'No':0,\n",
    "    'Yes':1,\n",
    "    'Not sure': None\n",
    "}\n",
    "df_filtered_final['i9_health'] = df_filtered_final['i9_health'].replace(mapping_dict_i9health)\n",
    "df_filtered_final = df_filtered_final.dropna(subset=['i9_health'])\n",
    "print(df_filtered_final['i9_health'])"
   ]
  },
  {
   "cell_type": "code",
   "execution_count": 133,
   "id": "775096a0-18d9-4e5c-9177-5556556db191",
   "metadata": {
    "ExecuteTime": {
     "end_time": "2024-10-22T20:34:02.754834Z",
     "start_time": "2024-10-22T20:34:02.738736Z"
    }
   },
   "outputs": [
    {
     "name": "stdout",
     "output_type": "stream",
     "text": [
      "1631    0.0\n",
      "1632    0.0\n",
      "1633    1.0\n",
      "1634    1.0\n",
      "1635    0.0\n",
      "       ... \n",
      "2611    0.0\n",
      "2612    1.0\n",
      "2613    0.0\n",
      "2614    3.0\n",
      "2615    0.0\n",
      "Name: i11_health, Length: 892, dtype: float64\n"
     ]
    }
   ],
   "source": [
    "mapping_dict_i11health = {\n",
    "    'Very willing':0,\n",
    "    'Somewhat willing':1,\n",
    "    'Neither willing nor unwilling':2,\n",
    "    'Somewhat unwilling':3,\n",
    "    'Very unwilling':4,\n",
    "    'Not sure': None\n",
    "    #update2\n",
    "}\n",
    "df_filtered_final['i11_health'] = df_filtered_final['i11_health'].replace(mapping_dict_i11health)\n",
    "df_filtered_final = df_filtered_final.dropna(subset=['i11_health'])\n",
    "print(df_filtered_final['i11_health'])"
   ]
  },
  {
   "cell_type": "code",
   "execution_count": 134,
   "id": "a77b8cf8-de66-4cdb-b308-bb74501195f0",
   "metadata": {
    "ExecuteTime": {
     "end_time": "2024-10-22T20:34:02.781978Z",
     "start_time": "2024-10-22T20:34:02.754834Z"
    }
   },
   "outputs": [
    {
     "name": "stdout",
     "output_type": "stream",
     "text": [
      "1631    5\n",
      "1632    2\n",
      "1633    4\n",
      "1634    4\n",
      "1635    4\n",
      "       ..\n",
      "2611    2\n",
      "2612    4\n",
      "2613    5\n",
      "2614    4\n",
      "2615    3\n",
      "Name: i12_health_16, Length: 892, dtype: int64\n"
     ]
    }
   ],
   "source": [
    "for i in [1,2,3,4,5,6,7,8,11,12,13,14,15,16]:\n",
    "    name = 'i12_health_' + str(i)\n",
    "    df_filtered_final[name] = df_filtered_final[name].replace(mapping_dict)\n",
    "print(df_filtered_final['i12_health_16'])"
   ]
  },
  {
   "cell_type": "code",
   "execution_count": 135,
   "id": "99686508",
   "metadata": {},
   "outputs": [
    {
     "data": {
      "text/html": [
       "<div>\n",
       "<style scoped>\n",
       "    .dataframe tbody tr th:only-of-type {\n",
       "        vertical-align: middle;\n",
       "    }\n",
       "\n",
       "    .dataframe tbody tr th {\n",
       "        vertical-align: top;\n",
       "    }\n",
       "\n",
       "    .dataframe thead th {\n",
       "        text-align: right;\n",
       "    }\n",
       "</style>\n",
       "<table border=\"1\" class=\"dataframe\">\n",
       "  <thead>\n",
       "    <tr style=\"text-align: right;\">\n",
       "      <th></th>\n",
       "      <th>RecordNo</th>\n",
       "      <th>i9_health</th>\n",
       "      <th>i11_health</th>\n",
       "      <th>i12_health_1</th>\n",
       "      <th>i12_health_2</th>\n",
       "      <th>i12_health_3</th>\n",
       "      <th>i12_health_4</th>\n",
       "      <th>i12_health_5</th>\n",
       "      <th>i12_health_6</th>\n",
       "      <th>i12_health_7</th>\n",
       "      <th>...</th>\n",
       "      <th>i12_health_29</th>\n",
       "      <th>vac2_1</th>\n",
       "      <th>vac2_2</th>\n",
       "      <th>r1_8</th>\n",
       "      <th>vac</th>\n",
       "      <th>Vent_3</th>\n",
       "      <th>vac_boost_1</th>\n",
       "      <th>future_1</th>\n",
       "      <th>future_2</th>\n",
       "      <th>PHQ4</th>\n",
       "    </tr>\n",
       "  </thead>\n",
       "  <tbody>\n",
       "    <tr>\n",
       "      <th>count</th>\n",
       "      <td>892.000000</td>\n",
       "      <td>892.000000</td>\n",
       "      <td>892.000000</td>\n",
       "      <td>892.000000</td>\n",
       "      <td>892.000000</td>\n",
       "      <td>892.000000</td>\n",
       "      <td>892.000000</td>\n",
       "      <td>892.000000</td>\n",
       "      <td>892.000000</td>\n",
       "      <td>892.000000</td>\n",
       "      <td>...</td>\n",
       "      <td>892.000000</td>\n",
       "      <td>892.000000</td>\n",
       "      <td>892.000000</td>\n",
       "      <td>892.000000</td>\n",
       "      <td>892.000000</td>\n",
       "      <td>892.000000</td>\n",
       "      <td>892.000000</td>\n",
       "      <td>892.000000</td>\n",
       "      <td>892.000000</td>\n",
       "      <td>892.000000</td>\n",
       "    </tr>\n",
       "    <tr>\n",
       "      <th>mean</th>\n",
       "      <td>44064.890135</td>\n",
       "      <td>0.827354</td>\n",
       "      <td>0.433857</td>\n",
       "      <td>1.347534</td>\n",
       "      <td>1.316143</td>\n",
       "      <td>1.633408</td>\n",
       "      <td>1.170404</td>\n",
       "      <td>1.386771</td>\n",
       "      <td>2.520179</td>\n",
       "      <td>2.117713</td>\n",
       "      <td>...</td>\n",
       "      <td>1.913677</td>\n",
       "      <td>2.983184</td>\n",
       "      <td>3.031390</td>\n",
       "      <td>5.169283</td>\n",
       "      <td>1.792601</td>\n",
       "      <td>2.178251</td>\n",
       "      <td>0.625561</td>\n",
       "      <td>3.078475</td>\n",
       "      <td>2.784753</td>\n",
       "      <td>1.978818</td>\n",
       "    </tr>\n",
       "    <tr>\n",
       "      <th>std</th>\n",
       "      <td>283.823294</td>\n",
       "      <td>0.378153</td>\n",
       "      <td>0.858768</td>\n",
       "      <td>0.934598</td>\n",
       "      <td>0.645147</td>\n",
       "      <td>1.011230</td>\n",
       "      <td>0.544433</td>\n",
       "      <td>0.914752</td>\n",
       "      <td>1.314956</td>\n",
       "      <td>1.489447</td>\n",
       "      <td>...</td>\n",
       "      <td>1.321646</td>\n",
       "      <td>1.295225</td>\n",
       "      <td>1.385803</td>\n",
       "      <td>2.011035</td>\n",
       "      <td>0.575043</td>\n",
       "      <td>1.245715</td>\n",
       "      <td>0.484249</td>\n",
       "      <td>0.885414</td>\n",
       "      <td>1.007643</td>\n",
       "      <td>0.878236</td>\n",
       "    </tr>\n",
       "    <tr>\n",
       "      <th>min</th>\n",
       "      <td>43573.000000</td>\n",
       "      <td>0.000000</td>\n",
       "      <td>0.000000</td>\n",
       "      <td>1.000000</td>\n",
       "      <td>1.000000</td>\n",
       "      <td>1.000000</td>\n",
       "      <td>1.000000</td>\n",
       "      <td>1.000000</td>\n",
       "      <td>1.000000</td>\n",
       "      <td>1.000000</td>\n",
       "      <td>...</td>\n",
       "      <td>1.000000</td>\n",
       "      <td>1.000000</td>\n",
       "      <td>1.000000</td>\n",
       "      <td>1.000000</td>\n",
       "      <td>0.000000</td>\n",
       "      <td>1.000000</td>\n",
       "      <td>0.000000</td>\n",
       "      <td>1.000000</td>\n",
       "      <td>1.000000</td>\n",
       "      <td>1.000000</td>\n",
       "    </tr>\n",
       "    <tr>\n",
       "      <th>25%</th>\n",
       "      <td>43821.750000</td>\n",
       "      <td>1.000000</td>\n",
       "      <td>0.000000</td>\n",
       "      <td>1.000000</td>\n",
       "      <td>1.000000</td>\n",
       "      <td>1.000000</td>\n",
       "      <td>1.000000</td>\n",
       "      <td>1.000000</td>\n",
       "      <td>1.000000</td>\n",
       "      <td>1.000000</td>\n",
       "      <td>...</td>\n",
       "      <td>1.000000</td>\n",
       "      <td>2.000000</td>\n",
       "      <td>2.000000</td>\n",
       "      <td>4.000000</td>\n",
       "      <td>2.000000</td>\n",
       "      <td>1.000000</td>\n",
       "      <td>0.000000</td>\n",
       "      <td>3.000000</td>\n",
       "      <td>2.000000</td>\n",
       "      <td>1.250000</td>\n",
       "    </tr>\n",
       "    <tr>\n",
       "      <th>50%</th>\n",
       "      <td>44065.500000</td>\n",
       "      <td>1.000000</td>\n",
       "      <td>0.000000</td>\n",
       "      <td>1.000000</td>\n",
       "      <td>1.000000</td>\n",
       "      <td>1.000000</td>\n",
       "      <td>1.000000</td>\n",
       "      <td>1.000000</td>\n",
       "      <td>2.000000</td>\n",
       "      <td>1.000000</td>\n",
       "      <td>...</td>\n",
       "      <td>1.000000</td>\n",
       "      <td>3.000000</td>\n",
       "      <td>3.000000</td>\n",
       "      <td>6.000000</td>\n",
       "      <td>2.000000</td>\n",
       "      <td>2.000000</td>\n",
       "      <td>1.000000</td>\n",
       "      <td>3.000000</td>\n",
       "      <td>3.000000</td>\n",
       "      <td>1.985004</td>\n",
       "    </tr>\n",
       "    <tr>\n",
       "      <th>75%</th>\n",
       "      <td>44306.250000</td>\n",
       "      <td>1.000000</td>\n",
       "      <td>1.000000</td>\n",
       "      <td>1.000000</td>\n",
       "      <td>1.000000</td>\n",
       "      <td>2.000000</td>\n",
       "      <td>1.000000</td>\n",
       "      <td>1.000000</td>\n",
       "      <td>3.000000</td>\n",
       "      <td>3.000000</td>\n",
       "      <td>...</td>\n",
       "      <td>2.000000</td>\n",
       "      <td>4.000000</td>\n",
       "      <td>4.000000</td>\n",
       "      <td>7.000000</td>\n",
       "      <td>2.000000</td>\n",
       "      <td>3.000000</td>\n",
       "      <td>1.000000</td>\n",
       "      <td>3.000000</td>\n",
       "      <td>3.000000</td>\n",
       "      <td>2.500000</td>\n",
       "    </tr>\n",
       "    <tr>\n",
       "      <th>max</th>\n",
       "      <td>44557.000000</td>\n",
       "      <td>1.000000</td>\n",
       "      <td>4.000000</td>\n",
       "      <td>5.000000</td>\n",
       "      <td>5.000000</td>\n",
       "      <td>5.000000</td>\n",
       "      <td>5.000000</td>\n",
       "      <td>5.000000</td>\n",
       "      <td>5.000000</td>\n",
       "      <td>5.000000</td>\n",
       "      <td>...</td>\n",
       "      <td>5.000000</td>\n",
       "      <td>5.000000</td>\n",
       "      <td>5.000000</td>\n",
       "      <td>7.000000</td>\n",
       "      <td>2.000000</td>\n",
       "      <td>5.000000</td>\n",
       "      <td>1.000000</td>\n",
       "      <td>5.000000</td>\n",
       "      <td>5.000000</td>\n",
       "      <td>4.000000</td>\n",
       "    </tr>\n",
       "  </tbody>\n",
       "</table>\n",
       "<p>8 rows × 40 columns</p>\n",
       "</div>"
      ],
      "text/plain": [
       "           RecordNo   i9_health  i11_health  i12_health_1  i12_health_2  \\\n",
       "count    892.000000  892.000000  892.000000    892.000000    892.000000   \n",
       "mean   44064.890135    0.827354    0.433857      1.347534      1.316143   \n",
       "std      283.823294    0.378153    0.858768      0.934598      0.645147   \n",
       "min    43573.000000    0.000000    0.000000      1.000000      1.000000   \n",
       "25%    43821.750000    1.000000    0.000000      1.000000      1.000000   \n",
       "50%    44065.500000    1.000000    0.000000      1.000000      1.000000   \n",
       "75%    44306.250000    1.000000    1.000000      1.000000      1.000000   \n",
       "max    44557.000000    1.000000    4.000000      5.000000      5.000000   \n",
       "\n",
       "       i12_health_3  i12_health_4  i12_health_5  i12_health_6  i12_health_7  \\\n",
       "count    892.000000    892.000000    892.000000    892.000000    892.000000   \n",
       "mean       1.633408      1.170404      1.386771      2.520179      2.117713   \n",
       "std        1.011230      0.544433      0.914752      1.314956      1.489447   \n",
       "min        1.000000      1.000000      1.000000      1.000000      1.000000   \n",
       "25%        1.000000      1.000000      1.000000      1.000000      1.000000   \n",
       "50%        1.000000      1.000000      1.000000      2.000000      1.000000   \n",
       "75%        2.000000      1.000000      1.000000      3.000000      3.000000   \n",
       "max        5.000000      5.000000      5.000000      5.000000      5.000000   \n",
       "\n",
       "       ...  i12_health_29      vac2_1      vac2_2        r1_8         vac  \\\n",
       "count  ...     892.000000  892.000000  892.000000  892.000000  892.000000   \n",
       "mean   ...       1.913677    2.983184    3.031390    5.169283    1.792601   \n",
       "std    ...       1.321646    1.295225    1.385803    2.011035    0.575043   \n",
       "min    ...       1.000000    1.000000    1.000000    1.000000    0.000000   \n",
       "25%    ...       1.000000    2.000000    2.000000    4.000000    2.000000   \n",
       "50%    ...       1.000000    3.000000    3.000000    6.000000    2.000000   \n",
       "75%    ...       2.000000    4.000000    4.000000    7.000000    2.000000   \n",
       "max    ...       5.000000    5.000000    5.000000    7.000000    2.000000   \n",
       "\n",
       "           Vent_3  vac_boost_1    future_1    future_2        PHQ4  \n",
       "count  892.000000   892.000000  892.000000  892.000000  892.000000  \n",
       "mean     2.178251     0.625561    3.078475    2.784753    1.978818  \n",
       "std      1.245715     0.484249    0.885414    1.007643    0.878236  \n",
       "min      1.000000     0.000000    1.000000    1.000000    1.000000  \n",
       "25%      1.000000     0.000000    3.000000    2.000000    1.250000  \n",
       "50%      2.000000     1.000000    3.000000    3.000000    1.985004  \n",
       "75%      3.000000     1.000000    3.000000    3.000000    2.500000  \n",
       "max      5.000000     1.000000    5.000000    5.000000    4.000000  \n",
       "\n",
       "[8 rows x 40 columns]"
      ]
     },
     "execution_count": 135,
     "metadata": {},
     "output_type": "execute_result"
    }
   ],
   "source": [
    "df_filtered_final.describe()"
   ]
  },
  {
   "cell_type": "code",
   "execution_count": 136,
   "id": "2cf395c5",
   "metadata": {},
   "outputs": [],
   "source": [
    "df_merged = df_filtered_final.merge(data_cleaned[['RecordNo', 'had_covid']], on='RecordNo', how='left')\n",
    "\n",
    "columns_to_extract = [\n",
    "    'i12_health_23', 'i12_health_25', 'r1_2', 'i12_health_26', 'i12_health_27', 'i12_health_28', 'i12_health_29', \n",
    "    'vac2_1', 'vac2_2', 'r1_8', 'vac', 'Vent_3', 'vac_boost_1', 'future_1', 'future_2',\n",
    "    'i9_health', 'i11_health',\n",
    "    'i12_health_1', 'i12_health_2', 'i12_health_3', 'i12_health_4', 'i12_health_5', 'i12_health_6', \n",
    "    'i12_health_7', 'i12_health_8', 'i12_health_11', 'i12_health_12', 'i12_health_13', \n",
    "    'i12_health_14', 'i12_health_15', 'i12_health_16',\n",
    "    'weight', 'gender', 'age', 'household_size', 'employment_status', 'PHQ4', 'WCRex2', 'WCRex1', 'i12_health_22',\n",
    "    'had_covid'\n",
    "]\n",
    "\n",
    "df_merged_final = df_merged[columns_to_extract]\n"
   ]
  },
  {
   "cell_type": "code",
   "execution_count": 137,
   "id": "ba740422",
   "metadata": {},
   "outputs": [
    {
     "name": "stdout",
     "output_type": "stream",
     "text": [
      "<class 'pandas.core.frame.DataFrame'>\n",
      "Int64Index: 892 entries, 0 to 891\n",
      "Data columns (total 41 columns):\n",
      " #   Column             Non-Null Count  Dtype  \n",
      "---  ------             --------------  -----  \n",
      " 0   i12_health_23      892 non-null    int64  \n",
      " 1   i12_health_25      892 non-null    int64  \n",
      " 2   r1_2               892 non-null    int64  \n",
      " 3   i12_health_26      892 non-null    int64  \n",
      " 4   i12_health_27      892 non-null    int64  \n",
      " 5   i12_health_28      892 non-null    int64  \n",
      " 6   i12_health_29      892 non-null    int64  \n",
      " 7   vac2_1             892 non-null    int64  \n",
      " 8   vac2_2             892 non-null    int64  \n",
      " 9   r1_8               892 non-null    int64  \n",
      " 10  vac                892 non-null    int64  \n",
      " 11  Vent_3             892 non-null    int64  \n",
      " 12  vac_boost_1        892 non-null    int64  \n",
      " 13  future_1           892 non-null    int64  \n",
      " 14  future_2           892 non-null    int64  \n",
      " 15  i9_health          892 non-null    float64\n",
      " 16  i11_health         892 non-null    float64\n",
      " 17  i12_health_1       892 non-null    int64  \n",
      " 18  i12_health_2       892 non-null    int64  \n",
      " 19  i12_health_3       892 non-null    int64  \n",
      " 20  i12_health_4       892 non-null    int64  \n",
      " 21  i12_health_5       892 non-null    int64  \n",
      " 22  i12_health_6       892 non-null    int64  \n",
      " 23  i12_health_7       892 non-null    int64  \n",
      " 24  i12_health_8       892 non-null    int64  \n",
      " 25  i12_health_11      892 non-null    int64  \n",
      " 26  i12_health_12      892 non-null    int64  \n",
      " 27  i12_health_13      892 non-null    int64  \n",
      " 28  i12_health_14      892 non-null    int64  \n",
      " 29  i12_health_15      892 non-null    int64  \n",
      " 30  i12_health_16      892 non-null    int64  \n",
      " 31  weight             892 non-null    float64\n",
      " 32  gender             892 non-null    int64  \n",
      " 33  age                892 non-null    int64  \n",
      " 34  household_size     892 non-null    object \n",
      " 35  employment_status  892 non-null    int64  \n",
      " 36  PHQ4               892 non-null    float64\n",
      " 37  WCRex2             892 non-null    int64  \n",
      " 38  WCRex1             892 non-null    int64  \n",
      " 39  i12_health_22      892 non-null    int64  \n",
      " 40  had_covid          892 non-null    object \n",
      "dtypes: float64(4), int64(35), object(2)\n",
      "memory usage: 292.7+ KB\n"
     ]
    }
   ],
   "source": [
    "df_merged_final.info()"
   ]
  },
  {
   "cell_type": "code",
   "execution_count": 138,
   "id": "1c6c42c2",
   "metadata": {},
   "outputs": [
    {
     "data": {
      "image/png": "[encoded data removed]",
      "text/plain": [
       "<Figure size 432x288 with 1 Axes>"
      ]
     },
     "metadata": {
      "needs_background": "light"
     },
     "output_type": "display_data"
    }
   ],
   "source": [
    "# Function to plot the distribution of the 'had_covid_label' column\n",
    "def plot_distribution(df, col_name):\n",
    "    if col_name not in df.columns:\n",
    "        raise ValueError(f\"Column '{col_name}' not found in the DataFrame.\")\n",
    "    \n",
    "    df[col_name].value_counts().plot(kind='bar', color='skyblue', edgecolor='black')\n",
    "    plt.title(f\"Distribution of '{col_name}'\")\n",
    "    plt.xlabel('Response')\n",
    "    plt.ylabel('Frequency')\n",
    "    plt.xticks(rotation=0)\n",
    "    plt.show()\n",
    "\n",
    "# Plot the distribution of 'had_covid_label' column\n",
    "plot_distribution(df_merged_final, \"had_covid\")"
   ]
  },
  {
   "cell_type": "code",
   "execution_count": null,
   "id": "f585ec16",
   "metadata": {},
   "outputs": [],
   "source": [
    "df_merged_final['had_covid'] = df_merged_final['had_covid'].astype('category')\n",
    "df_merged_final['r1_2'] = df_merged_final['r1_2'].astype('category')\n",
    "cross_tab = pd.crosstab(df_merged_final['had_covid'], df_merged_final['r1_2'], margins=True)\n",
    "print(cross_tab)\n",
    "plt.figure(figsize=(10, 6))\n",
    "sns.countplot(x='r1_2', hue='had_covid', data=df_merged_final)\n",
    "plt.title('Clustered Bar Chart: had_covid vs r1_2')\n",
    "plt.xlabel('r1_2')\n",
    "plt.ylabel('Count')\n",
    "plt.show()"
   ]
  }
 ],
 "metadata": {
  "kernelspec": {
   "display_name": "base",
   "language": "python",
   "name": "python3"
  },
  "language_info": {
   "codemirror_mode": {
    "name": "ipython",
    "version": 3
   },
   "file_extension": ".py",
   "mimetype": "text/x-python",
   "name": "python",
   "nbconvert_exporter": "python",
   "pygments_lexer": "ipython3",
   "version": "3.11.10"
  }
 },
 "nbformat": 4,
 "nbformat_minor": 5
}
